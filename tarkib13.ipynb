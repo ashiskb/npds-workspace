{
 "cells": [
  {
   "cell_type": "code",
   "execution_count": 1,
   "metadata": {},
   "outputs": [],
   "source": [
    "import numpy as np\n",
    "import pandas as pd"
   ]
  },
  {
   "cell_type": "code",
   "execution_count": 2,
   "metadata": {},
   "outputs": [],
   "source": [
    "df2=pd.read_spss(\"Desktop/good.sav\")"
   ]
  },
  {
   "cell_type": "code",
   "execution_count": 3,
   "metadata": {},
   "outputs": [],
   "source": [
    "for col in df2.columns:\n",
    "    if df2[col].isna().any():\n",
    "        print(col,df2[col].dtype)"
   ]
  },
  {
   "cell_type": "code",
   "execution_count": 4,
   "metadata": {},
   "outputs": [
    {
     "data": {
      "text/plain": [
       "Benzodiazepines                      68536\n",
       "Diphenhydramine                      51798\n",
       "Acetaminophen                        38033\n",
       "Acetylsalicylic Acid Alone           15268\n",
       "Bupropion                            12328\n",
       "Lithium                               9434\n",
       "Calcium Antagonist, Alone             2945\n",
       "Methadone                             2791\n",
       "Oral Hypoglycemics: Sulfonylureas     2689\n",
       "Oral Hypoglycemics: Biguanides        2205\n",
       "Name: product, dtype: int64"
      ]
     },
     "execution_count": 4,
     "metadata": {},
     "output_type": "execute_result"
    }
   ],
   "source": [
    "df2['product'].value_counts()"
   ]
  },
  {
   "cell_type": "code",
   "execution_count": 5,
   "metadata": {},
   "outputs": [
    {
     "data": {
      "text/plain": [
       "(206027, 134)"
      ]
     },
     "execution_count": 5,
     "metadata": {},
     "output_type": "execute_result"
    }
   ],
   "source": [
    "df2.shape"
   ]
  },
  {
   "cell_type": "code",
   "execution_count": 6,
   "metadata": {},
   "outputs": [],
   "source": [
    "from keras.models import Sequential\n",
    "from keras.layers import Dense"
   ]
  },
  {
   "cell_type": "code",
   "execution_count": 7,
   "metadata": {},
   "outputs": [],
   "source": [
    "from sklearn.metrics import accuracy_score\n",
    "from sklearn.preprocessing import StandardScaler\n",
    "from sklearn.model_selection import train_test_split\n",
    "\n",
    "X = df2.drop('product', axis = 1)\n",
    "y = df2['product']\n",
    "\n",
    "from sklearn.model_selection import cross_val_score\n",
    "\n",
    "\n",
    "X_train, X_test, y_train, y_test = train_test_split(X, y, test_size=0.33, random_state=42)\n",
    "\n",
    "\n"
   ]
  },
  {
   "cell_type": "code",
   "execution_count": 8,
   "metadata": {},
   "outputs": [
    {
     "name": "stdout",
     "output_type": "stream",
     "text": [
      "Model: \"sequential\"\n",
      "_________________________________________________________________\n",
      "Layer (type)                 Output Shape              Param #   \n",
      "=================================================================\n",
      "dense (Dense)                (None, 64)                8576      \n",
      "_________________________________________________________________\n",
      "dense_1 (Dense)              (None, 32)                2080      \n",
      "_________________________________________________________________\n",
      "dense_2 (Dense)              (None, 32)                1056      \n",
      "_________________________________________________________________\n",
      "dense_3 (Dense)              (None, 32)                1056      \n",
      "_________________________________________________________________\n",
      "dense_4 (Dense)              (None, 1)                 33        \n",
      "=================================================================\n",
      "Total params: 12,801\n",
      "Trainable params: 12,801\n",
      "Non-trainable params: 0\n",
      "_________________________________________________________________\n"
     ]
    }
   ],
   "source": [
    "model = Sequential()\n",
    "model.add(Dense(input_dim = 133, units = 64, activation='relu'))\n",
    "model.add(Dense(units = 32, activation='relu'))\n",
    "model.add(Dense(units = 32, activation='tanh'))\n",
    "model.add(Dense(units = 32, activation='sigmoid'))\n",
    "model.add(Dense(units = 1, activation='sigmoid'))\n",
    "model.summary()"
   ]
  },
  {
   "cell_type": "code",
   "execution_count": 9,
   "metadata": {},
   "outputs": [],
   "source": [
    "model.compile(loss='categorical_crossentropy', optimizer='Ftrl', metrics=['accuracy'])"
   ]
  },
  {
   "cell_type": "code",
   "execution_count": 10,
   "metadata": {},
   "outputs": [],
   "source": [
    "y_train=pd.get_dummies(y_train,drop_first=True).iloc[:,0].values\n",
    "y_test=pd.get_dummies(y_test,drop_first=True).iloc[:,0].values"
   ]
  },
  {
   "cell_type": "code",
   "execution_count": 11,
   "metadata": {},
   "outputs": [
    {
     "name": "stdout",
     "output_type": "stream",
     "text": [
      "Epoch 1/50\n",
      "2157/2157 [==============================] - 8s 3ms/step - loss: 0.0000e+00 - accuracy: 0.9254 - val_loss: 0.0000e+00 - val_accuracy: 0.9259\n",
      "Epoch 2/50\n",
      "2157/2157 [==============================] - 5s 2ms/step - loss: 0.0000e+00 - accuracy: 0.9259 - val_loss: 0.0000e+00 - val_accuracy: 0.9259\n",
      "Epoch 3/50\n",
      "2157/2157 [==============================] - 4s 2ms/step - loss: 0.0000e+00 - accuracy: 0.9248 - val_loss: 0.0000e+00 - val_accuracy: 0.9259\n",
      "Epoch 4/50\n",
      "2157/2157 [==============================] - 5s 2ms/step - loss: 0.0000e+00 - accuracy: 0.9249 - val_loss: 0.0000e+00 - val_accuracy: 0.9259\n",
      "Epoch 5/50\n",
      "2157/2157 [==============================] - 5s 2ms/step - loss: 0.0000e+00 - accuracy: 0.9264 - val_loss: 0.0000e+00 - val_accuracy: 0.9259\n",
      "Epoch 6/50\n",
      "2157/2157 [==============================] - 5s 2ms/step - loss: 0.0000e+00 - accuracy: 0.9257 - val_loss: 0.0000e+00 - val_accuracy: 0.9259\n",
      "Epoch 7/50\n",
      "2157/2157 [==============================] - 5s 2ms/step - loss: 0.0000e+00 - accuracy: 0.9251 - val_loss: 0.0000e+00 - val_accuracy: 0.9259\n",
      "Epoch 8/50\n",
      "2157/2157 [==============================] - 5s 2ms/step - loss: 0.0000e+00 - accuracy: 0.9255 - val_loss: 0.0000e+00 - val_accuracy: 0.9259\n",
      "Epoch 9/50\n",
      "2157/2157 [==============================] - 5s 2ms/step - loss: 0.0000e+00 - accuracy: 0.9265 - val_loss: 0.0000e+00 - val_accuracy: 0.9259\n",
      "Epoch 10/50\n",
      "2157/2157 [==============================] - 5s 2ms/step - loss: 0.0000e+00 - accuracy: 0.9257 - val_loss: 0.0000e+00 - val_accuracy: 0.9259\n",
      "Epoch 11/50\n",
      "2157/2157 [==============================] - 5s 2ms/step - loss: 0.0000e+00 - accuracy: 0.9260 - val_loss: 0.0000e+00 - val_accuracy: 0.9259\n",
      "Epoch 12/50\n",
      "2157/2157 [==============================] - 5s 2ms/step - loss: 0.0000e+00 - accuracy: 0.9252 - val_loss: 0.0000e+00 - val_accuracy: 0.9259\n",
      "Epoch 13/50\n",
      "2157/2157 [==============================] - 5s 2ms/step - loss: 0.0000e+00 - accuracy: 0.9263 - val_loss: 0.0000e+00 - val_accuracy: 0.9259\n",
      "Epoch 14/50\n",
      "2157/2157 [==============================] - 5s 2ms/step - loss: 0.0000e+00 - accuracy: 0.9259 - val_loss: 0.0000e+00 - val_accuracy: 0.9259\n",
      "Epoch 15/50\n",
      "2157/2157 [==============================] - 4s 2ms/step - loss: 0.0000e+00 - accuracy: 0.9258 - val_loss: 0.0000e+00 - val_accuracy: 0.9259\n",
      "Epoch 16/50\n",
      "2157/2157 [==============================] - 4s 2ms/step - loss: 0.0000e+00 - accuracy: 0.9259 - val_loss: 0.0000e+00 - val_accuracy: 0.9259\n",
      "Epoch 17/50\n",
      "2157/2157 [==============================] - 4s 2ms/step - loss: 0.0000e+00 - accuracy: 0.9259 - val_loss: 0.0000e+00 - val_accuracy: 0.9259\n",
      "Epoch 18/50\n",
      "2157/2157 [==============================] - 4s 2ms/step - loss: 0.0000e+00 - accuracy: 0.9270 - val_loss: 0.0000e+00 - val_accuracy: 0.9259\n",
      "Epoch 19/50\n",
      "2157/2157 [==============================] - 4s 2ms/step - loss: 0.0000e+00 - accuracy: 0.9265 - val_loss: 0.0000e+00 - val_accuracy: 0.9259\n",
      "Epoch 20/50\n",
      "2157/2157 [==============================] - 4s 2ms/step - loss: 0.0000e+00 - accuracy: 0.9271 - val_loss: 0.0000e+00 - val_accuracy: 0.9259\n",
      "Epoch 21/50\n",
      "2157/2157 [==============================] - 4s 2ms/step - loss: 0.0000e+00 - accuracy: 0.9266 - val_loss: 0.0000e+00 - val_accuracy: 0.9259\n",
      "Epoch 22/50\n",
      "2157/2157 [==============================] - 4s 2ms/step - loss: 0.0000e+00 - accuracy: 0.9255 - val_loss: 0.0000e+00 - val_accuracy: 0.9259\n",
      "Epoch 23/50\n",
      "2157/2157 [==============================] - 4s 2ms/step - loss: 0.0000e+00 - accuracy: 0.9251 - val_loss: 0.0000e+00 - val_accuracy: 0.9259\n",
      "Epoch 24/50\n",
      "2157/2157 [==============================] - 4s 2ms/step - loss: 0.0000e+00 - accuracy: 0.9253 - val_loss: 0.0000e+00 - val_accuracy: 0.9259\n",
      "Epoch 25/50\n",
      "2157/2157 [==============================] - 4s 2ms/step - loss: 0.0000e+00 - accuracy: 0.9261 - val_loss: 0.0000e+00 - val_accuracy: 0.9259\n",
      "Epoch 26/50\n",
      "2157/2157 [==============================] - 4s 2ms/step - loss: 0.0000e+00 - accuracy: 0.9265 - val_loss: 0.0000e+00 - val_accuracy: 0.9259\n",
      "Epoch 27/50\n",
      "2157/2157 [==============================] - 4s 2ms/step - loss: 0.0000e+00 - accuracy: 0.9262 - val_loss: 0.0000e+00 - val_accuracy: 0.9259\n",
      "Epoch 28/50\n",
      "2157/2157 [==============================] - 4s 2ms/step - loss: 0.0000e+00 - accuracy: 0.9243 - val_loss: 0.0000e+00 - val_accuracy: 0.9259\n",
      "Epoch 29/50\n",
      "2157/2157 [==============================] - 5s 2ms/step - loss: 0.0000e+00 - accuracy: 0.9255 - val_loss: 0.0000e+00 - val_accuracy: 0.9259\n",
      "Epoch 30/50\n",
      "2157/2157 [==============================] - 4s 2ms/step - loss: 0.0000e+00 - accuracy: 0.9268 - val_loss: 0.0000e+00 - val_accuracy: 0.9259\n",
      "Epoch 31/50\n",
      "2157/2157 [==============================] - 4s 2ms/step - loss: 0.0000e+00 - accuracy: 0.9271 - val_loss: 0.0000e+00 - val_accuracy: 0.9259\n",
      "Epoch 32/50\n",
      "2157/2157 [==============================] - 4s 2ms/step - loss: 0.0000e+00 - accuracy: 0.9251 - val_loss: 0.0000e+00 - val_accuracy: 0.9259\n",
      "Epoch 33/50\n",
      "2157/2157 [==============================] - 5s 2ms/step - loss: 0.0000e+00 - accuracy: 0.9262 - val_loss: 0.0000e+00 - val_accuracy: 0.9259\n",
      "Epoch 34/50\n",
      "2157/2157 [==============================] - 4s 2ms/step - loss: 0.0000e+00 - accuracy: 0.9250 - val_loss: 0.0000e+00 - val_accuracy: 0.9259\n",
      "Epoch 35/50\n",
      "2157/2157 [==============================] - 4s 2ms/step - loss: 0.0000e+00 - accuracy: 0.9254 - val_loss: 0.0000e+00 - val_accuracy: 0.9259\n",
      "Epoch 36/50\n",
      "2157/2157 [==============================] - 4s 2ms/step - loss: 0.0000e+00 - accuracy: 0.9251 - val_loss: 0.0000e+00 - val_accuracy: 0.9259\n",
      "Epoch 37/50\n",
      "2157/2157 [==============================] - 4s 2ms/step - loss: 0.0000e+00 - accuracy: 0.9257 - val_loss: 0.0000e+00 - val_accuracy: 0.9259\n",
      "Epoch 38/50\n",
      "2157/2157 [==============================] - 4s 2ms/step - loss: 0.0000e+00 - accuracy: 0.9272 - val_loss: 0.0000e+00 - val_accuracy: 0.9259\n",
      "Epoch 39/50\n",
      "2157/2157 [==============================] - 4s 2ms/step - loss: 0.0000e+00 - accuracy: 0.9249 - val_loss: 0.0000e+00 - val_accuracy: 0.9259\n",
      "Epoch 40/50\n",
      "2157/2157 [==============================] - 4s 2ms/step - loss: 0.0000e+00 - accuracy: 0.9260 - val_loss: 0.0000e+00 - val_accuracy: 0.9259\n",
      "Epoch 41/50\n",
      "2157/2157 [==============================] - 5s 2ms/step - loss: 0.0000e+00 - accuracy: 0.9264 - val_loss: 0.0000e+00 - val_accuracy: 0.9259\n",
      "Epoch 42/50\n",
      "2157/2157 [==============================] - 5s 2ms/step - loss: 0.0000e+00 - accuracy: 0.9263 - val_loss: 0.0000e+00 - val_accuracy: 0.9259\n",
      "Epoch 43/50\n",
      "2157/2157 [==============================] - 4s 2ms/step - loss: 0.0000e+00 - accuracy: 0.9238 - val_loss: 0.0000e+00 - val_accuracy: 0.9259\n",
      "Epoch 44/50\n",
      "2157/2157 [==============================] - 4s 2ms/step - loss: 0.0000e+00 - accuracy: 0.9271 - val_loss: 0.0000e+00 - val_accuracy: 0.9259\n",
      "Epoch 45/50\n",
      "2157/2157 [==============================] - 5s 2ms/step - loss: 0.0000e+00 - accuracy: 0.9245 - val_loss: 0.0000e+00 - val_accuracy: 0.9259\n",
      "Epoch 46/50\n",
      "2157/2157 [==============================] - 4s 2ms/step - loss: 0.0000e+00 - accuracy: 0.9257 - val_loss: 0.0000e+00 - val_accuracy: 0.9259\n",
      "Epoch 47/50\n",
      "2157/2157 [==============================] - 4s 2ms/step - loss: 0.0000e+00 - accuracy: 0.9266 - val_loss: 0.0000e+00 - val_accuracy: 0.9259\n",
      "Epoch 48/50\n",
      "2157/2157 [==============================] - 5s 2ms/step - loss: 0.0000e+00 - accuracy: 0.9259 - val_loss: 0.0000e+00 - val_accuracy: 0.9259\n",
      "Epoch 49/50\n",
      "2157/2157 [==============================] - 4s 2ms/step - loss: 0.0000e+00 - accuracy: 0.9252 - val_loss: 0.0000e+00 - val_accuracy: 0.9259\n",
      "Epoch 50/50\n",
      "2157/2157 [==============================] - 4s 2ms/step - loss: 0.0000e+00 - accuracy: 0.9260 - val_loss: 0.0000e+00 - val_accuracy: 0.9259\n"
     ]
    },
    {
     "data": {
      "text/plain": [
       "<tensorflow.python.keras.callbacks.History at 0x7fde1cfc7d00>"
      ]
     },
     "execution_count": 11,
     "metadata": {},
     "output_type": "execute_result"
    }
   ],
   "source": [
    "model.fit(X_train, y_train, epochs=50, validation_data=(X_test,y_test),batch_size=64)"
   ]
  },
  {
   "cell_type": "code",
   "execution_count": 12,
   "metadata": {},
   "outputs": [],
   "source": [
    "from sklearn.model_selection import GridSearchCV"
   ]
  },
  {
   "cell_type": "code",
   "execution_count": null,
   "metadata": {},
   "outputs": [],
   "source": [
    "import xgboost as xgb\n",
    "from sklearn.metrics import accuracy_score\n",
    "from sklearn.preprocessing import StandardScaler\n",
    "from sklearn.model_selection import train_test_split\n",
    "xgb_model= xgb.XGBClassifier(learning_rate= 0.1,max_depth= 5, min_child_weight= 4,n_estimators= 100)\n",
    "X = df2.drop('product', axis = 1)\n",
    "y = df2['product']\n",
    "sc = StandardScaler()\n",
    "sc.fit(X)\n",
    "X2 = sc.transform(X)\n",
    "X_train, X_test, y_train, y_test = train_test_split(X2, y, test_size=0.33, random_state=42)\n",
    "\n",
    "# cls.fit(X_train,y_train)\n",
    "xgb_model.fit(X_train,\n",
    "        y_train,\n",
    "        verbose=True,\n",
    "        early_stopping_rounds=10,\n",
    "        eval_metric='aucpr',\n",
    "        eval_set=[(X_test,y_test)])\n",
    "       \n",
    "y_pred = xgb_model.predict(X_train)\n",
    "print(accuracy_score(y_train, y_pred))\n",
    "y_pred = xgb_model.predict(X_test)\n",
    "print(accuracy_score(y_test, y_pred))\n",
    "print(\"Accuracy:\",metrics.accuracy_score(y_test, y_pred))\n",
    "import matplotlib.pyplot as plt  \n",
    "from sklearn.datasets import make_classification\n",
    "from sklearn.metrics import plot_confusion_matrix\n",
    "plot_confusion_matrix(xgb_model, \n",
    "                      X_test,\n",
    "                      y_test)\n",
    "                      \n",
    "plt.show()\n",
    "metrics.plot_roc_curve(xgb_model, X_test, y_test)  \n",
    "plt.show() "
   ]
  },
  {
   "cell_type": "code",
   "execution_count": null,
   "metadata": {},
   "outputs": [],
   "source": [
    "def xgb_grid_search(X,y,nfolds):\n",
    "    #create a dictionary of all values we want to test\n",
    "    param_grid = { 'max_depth': [4,5,6,15] , 'min_child_weight':[4,5,6] ,'learning_rate': [0.05,0.1,0.5] ,'n_estimators': [20,50,100] }\n",
    "    # decision tree model\n",
    "    xgb_model=XGBClassifier()\n",
    "    #use gridsearch to test all values\n",
    "    xgb_gscv = GridSearchCV(xgb_model, param_grid, cv=nfolds)\n",
    "    #fit model to data\n",
    "    xgb_gscv.fit(X, y)\n",
    "    print(xgb_gscv.best_params_)\n",
    "    print(xgb_gscv.best_estimator_)\n",
    "    print(xgb_gscv.best_score_)"
   ]
  },
  {
   "cell_type": "code",
   "execution_count": null,
   "metadata": {},
   "outputs": [],
   "source": [
    "# import xgboost as xgb\n",
    "# from sklearn.metrics import accuracy_score\n",
    "# from sklearn.preprocessing import StandardScaler\n",
    "# from sklearn.model_selection import train_test_split\n",
    "\n",
    "# parameters={\"loss\": [\"deviance\", \"exponential\"], 'learning_rate':[0.0001,0.001,0.01],'n_estimators':[100,500,30],\n",
    "#            \"min_samples_split\":[2,4,6,8,10],\"max_depth\":[2,5,8,10,13,15,20,25,30],\"max_features\":[\"auto\", \"sqrt\",\"log2\"]}\n",
    "\n",
    "# cls = xgb.XGBClassifier()\n",
    "# grid_search=GridSearchCV(cls,param_grid=parameters,cv=5)\n",
    "# grid_search.fit(X_train, y_train)\n",
    "\n",
    "\n",
    "# X = df2.drop(['product'], axis = 1)\n",
    "# y = df2['product']\n",
    "# # sc = StandardScaler()\n",
    "# # sc.fit(X)\n",
    "# # X2 = sc.transform(X)\n",
    "# X_train, X_test, y_train, y_test = train_test_split(X, y, test_size=0.50, random_state=42)\n",
    "\n"
   ]
  },
  {
   "cell_type": "code",
   "execution_count": null,
   "metadata": {},
   "outputs": [],
   "source": [
    "\n",
    "xgb_model= xgb.XGBClassifier()\n",
    "grid_search=GridSearchCV(xgb_model,param_grid=parameters,cv=5)\n",
    "grid_search.fit(X_train, y_train)"
   ]
  },
  {
   "cell_type": "code",
   "execution_count": null,
   "metadata": {},
   "outputs": [],
   "source": [
    "grid_search.best_params_"
   ]
  },
  {
   "cell_type": "code",
   "execution_count": null,
   "metadata": {},
   "outputs": [],
   "source": [
    "best_model=grid_search.best_estimator_\n",
    "best_model.fit(X_train, y_train)\n",
    "y_pred = best_model.predict(X_train)\n",
    "print(accuracy_score(y_train, y_pred))\n",
    "y_pred = best_model.predict(X_test)\n",
    "print(accuracy_score(y_test, y_pred))\n",
    "print(\"Accuracy:\",metrics.accuracy_score(y_test, y_pred))"
   ]
  },
  {
   "cell_type": "code",
   "execution_count": null,
   "metadata": {},
   "outputs": [],
   "source": []
  },
  {
   "cell_type": "code",
   "execution_count": null,
   "metadata": {},
   "outputs": [],
   "source": [
    "# cls.fit(X_train,y_train)\n",
    "cls.fit(X_train,\n",
    "        y_train)\n",
    "       \n",
    "y_pred = cls.predict(X_train)\n",
    "print(accuracy_score(y_train, y_pred))\n",
    "y_pred = cls.predict(X_test)\n",
    "print(accuracy_score(y_test, y_pred))"
   ]
  },
  {
   "cell_type": "code",
   "execution_count": null,
   "metadata": {},
   "outputs": [],
   "source": [
    "from msdlib import msd\n",
    "score,conf = msd.class_result(y_test, y_pred,out_confus = True)"
   ]
  },
  {
   "cell_type": "code",
   "execution_count": null,
   "metadata": {},
   "outputs": [],
   "source": [
    "score"
   ]
  },
  {
   "cell_type": "code",
   "execution_count": null,
   "metadata": {},
   "outputs": [],
   "source": [
    "import matplotlib.pyplot as plt  \n",
    "from sklearn import datasets, metrics, model_selection, svm\n",
    "from sklearn.datasets import make_classification\n",
    "from sklearn.metrics import confusion_matrix, ConfusionMatrixDisplay"
   ]
  },
  {
   "cell_type": "code",
   "execution_count": null,
   "metadata": {},
   "outputs": [],
   "source": [
    "predictions = cls.predict(X_test)\n",
    "cm = confusion_matrix(y_test, predictions, labels=cls.classes_) \n",
    "from sklearn.datasets import make_classification\n",
    "from sklearn.metrics import confusion_matrix, ConfusionMatrixDisplay\n",
    "predictions = cls.predict(X_test)\n",
    "cm = confusion_matrix(y_test, predictions, labels=cls.classes_)\n",
    "disp = ConfusionMatrixDisplay(confusion_matrix=cm,display_labels=cls.classes_)\n",
    "disp.plot() "
   ]
  },
  {
   "cell_type": "code",
   "execution_count": null,
   "metadata": {},
   "outputs": [],
   "source": [
    "conf"
   ]
  },
  {
   "cell_type": "code",
   "execution_count": null,
   "metadata": {},
   "outputs": [],
   "source": [
    "\n",
    "parameters={\"loss\": [\"deviance\", \"exponential\"], 'learning_rate'[0.0001,0.001,0.01],'n_estimators':[100,500,30],\n",
    "           \"min_samples_split\":[2,10,2],\"max_depth\":[2,30,2],\"max_features\":[‘auto’, ‘sqrt’, ‘log2’]}\n",
    "\n",
    "cls = xgb.XGBClassifier()\n",
    "grid_search=GridSearchCV(cls,param_grid=parameters,cv=5)\n",
    "grid_search.fit(X_train, y_train)"
   ]
  },
  {
   "cell_type": "code",
   "execution_count": null,
   "metadata": {},
   "outputs": [],
   "source": []
  },
  {
   "cell_type": "code",
   "execution_count": null,
   "metadata": {},
   "outputs": [],
   "source": []
  }
 ],
 "metadata": {
  "kernelspec": {
   "display_name": "Python 3",
   "language": "python",
   "name": "python3"
  },
  "language_info": {
   "codemirror_mode": {
    "name": "ipython",
    "version": 3
   },
   "file_extension": ".py",
   "mimetype": "text/x-python",
   "name": "python",
   "nbconvert_exporter": "python",
   "pygments_lexer": "ipython3",
   "version": "3.8.3"
  }
 },
 "nbformat": 4,
 "nbformat_minor": 4
}
