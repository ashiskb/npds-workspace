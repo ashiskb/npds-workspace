{
 "cells": [
  {
   "attachments": {},
   "cell_type": "markdown",
   "metadata": {},
   "source": [
    "## DNN based Poisoning detection (with Keras)"
   ]
  },
  {
   "cell_type": "code",
   "execution_count": 154,
   "metadata": {},
   "outputs": [],
   "source": [
    "running_on_ubuntu2204 = True\n",
    "running_on_macos = False\n",
    "running_on_colab = False #not published. Please contact authors for a Google colab version\n",
    "dataset_root = '/home/ashiskb/Documents/data/NPDS-data/'"
   ]
  },
  {
   "attachments": {},
   "cell_type": "markdown",
   "metadata": {},
   "source": [
    "### (AshisKB) Imports & workspace configuration"
   ]
  },
  {
   "cell_type": "code",
   "execution_count": 155,
   "metadata": {},
   "outputs": [],
   "source": [
    "#!pip install --upgrade pip\n",
    "#!pip install -U jupyterlab ipywidgets\n",
    "#!pip3 install tensorflow\n",
    "#!pip install tqdm\n",
    "#!pip3 install -U scikit-learn\n",
    "#!pip install xgboost\n",
    "#!pip install lightgbm\n",
    "#!pip install imblearn\n",
    "#!pip install pyreadstat\n",
    "#!pip install matplotlib pandas numpy\n",
    "#!pip install seaborn\n"
   ]
  },
  {
   "cell_type": "code",
   "execution_count": 156,
   "metadata": {},
   "outputs": [],
   "source": [
    "!pip freeze > requirements_ubuntu2204_Keras.txt\n",
    "#!pip install -r requirements_macos.txt\n",
    "#!pip freeze > requirements_ubuntu2204.txt"
   ]
  },
  {
   "cell_type": "code",
   "execution_count": 157,
   "metadata": {},
   "outputs": [
    {
     "name": "stdout",
     "output_type": "stream",
     "text": [
      "Thu Feb  2 20:54:36 2023       \n",
      "+-----------------------------------------------------------------------------+\n",
      "| NVIDIA-SMI 515.86.01    Driver Version: 515.86.01    CUDA Version: 11.7     |\n",
      "|-------------------------------+----------------------+----------------------+\n",
      "| GPU  Name        Persistence-M| Bus-Id        Disp.A | Volatile Uncorr. ECC |\n",
      "| Fan  Temp  Perf  Pwr:Usage/Cap|         Memory-Usage | GPU-Util  Compute M. |\n",
      "|                               |                      |               MIG M. |\n",
      "|===============================+======================+======================|\n",
      "|   0  NVIDIA GeForce ...  Off  | 00000000:01:00.0  On |                  N/A |\n",
      "| N/A   56C    P8    13W /  N/A |   7559MiB /  8192MiB |      8%      Default |\n",
      "|                               |                      |                  N/A |\n",
      "+-------------------------------+----------------------+----------------------+\n",
      "                                                                               \n",
      "+-----------------------------------------------------------------------------+\n",
      "| Processes:                                                                  |\n",
      "|  GPU   GI   CI        PID   Type   Process name                  GPU Memory |\n",
      "|        ID   ID                                                   Usage      |\n",
      "|=============================================================================|\n",
      "|    0   N/A  N/A      2093      G   /usr/lib/xorg/Xorg                193MiB |\n",
      "|    0   N/A  N/A      2271    C+G   ...ome-remote-desktop-daemon      104MiB |\n",
      "|    0   N/A  N/A      2307      G   /usr/bin/gnome-shell               32MiB |\n",
      "|    0   N/A  N/A      3716      G   ...257806609993416417,131072       54MiB |\n",
      "|    0   N/A  N/A    155089      C   ...ctory/venv-tf2/bin/python     7153MiB |\n",
      "+-----------------------------------------------------------------------------+\n"
     ]
    }
   ],
   "source": [
    "if running_on_ubuntu2204:\n",
    "    #checking cuda version and cuda support\n",
    "    !nvidia-smi"
   ]
  },
  {
   "cell_type": "code",
   "execution_count": 226,
   "metadata": {},
   "outputs": [],
   "source": [
    "%matplotlib inline\n",
    "import tensorflow as tf\n",
    "from tensorflow.keras.models import Sequential\n",
    "from tensorflow.keras.layers import Dense,BatchNormalization,Dropout,Input\n",
    "from tensorflow.keras.optimizers import SGD,Adam\n",
    "from tensorflow.keras.datasets import mnist\n",
    "from tensorflow.keras import backend as K\n",
    "\n",
    "\n",
    "\n",
    "from sklearn.model_selection import train_test_split\n",
    "from sklearn.preprocessing import OneHotEncoder\n",
    "from sklearn.neighbors import KNeighborsClassifier as KNN\n",
    "from sklearn.tree import DecisionTreeClassifier as DTC\n",
    "from sklearn.ensemble import RandomForestClassifier as RFC\n",
    "from sklearn.ensemble import AdaBoostClassifier as AdaBC\n",
    "from sklearn.linear_model import LogisticRegression as LR\n",
    "from sklearn.naive_bayes import GaussianNB\n",
    "from sklearn.datasets import make_blobs\n",
    "from sklearn.metrics import confusion_matrix\n",
    "from sklearn.metrics import classification_report\n",
    "from xgboost import XGBClassifier as XGBC\n",
    "from lightgbm import LGBMClassifier as LGBC\n",
    "\n",
    "from imblearn.over_sampling import SMOTE, RandomOverSampler\n",
    "\n",
    "from scipy.special import softmax\n",
    "from IPython.core.display import HTML\n",
    "import numpy as np\n",
    "import pandas as pd\n",
    "import os\n",
    "import matplotlib.pyplot as plt\n",
    "import matplotlib.colors\n",
    "import time\n",
    "import joblib\n",
    "from tqdm import tqdm\n",
    "import seaborn as sns\n",
    "import copy\n",
    "\n",
    "    \n"
   ]
  },
  {
   "attachments": {},
   "cell_type": "markdown",
   "metadata": {},
   "source": [
    "### (AshisKB) Utility functions"
   ]
  },
  {
   "cell_type": "code",
   "execution_count": 159,
   "metadata": {},
   "outputs": [],
   "source": [
    "# result: score matrix\n",
    "# confus: confusion matrix\n",
    "# setname: data set name (train or test or validation)\n",
    "# modelname: name of the prediction model\n",
    "# savedir: directory path where the graph will be saved\n",
    "def plot_tables(result, confus, setname, modelname, savedir):\n",
    "    fig, ax = plt.subplots(figsize = (22, 5), ncols = 2)\n",
    "    ax[0] = msd.plot_heatmap(result, annotate = True, fmt = '.3f', xrot = 0, vmax = 1, axobj = ax[0], cmap = 'summer', fig_title = 'Score Matrix')\n",
    "    ax[1] = msd.plot_heatmap(confus, annotate = True, fmt = 'd', xrot = 0, axobj = ax[1], cmap = 'Blues', fig_title = 'Confusion Matrix')\n",
    "    fig.suptitle('Classification result for %s from %s'%(setname, modelname), fontsize = 15, fontweight = 'bold')\n",
    "    fig.tight_layout()\n",
    "    fig.savefig('%s/Classification result for %s from %s.png'%(savedir, setname, modelname), bbox_inches = 'tight')\n",
    "    plt.show()\n",
    "    plt.close()"
   ]
  },
  {
   "cell_type": "code",
   "execution_count": 160,
   "metadata": {},
   "outputs": [],
   "source": [
    "def get_weighted_scores(score, y_test):\n",
    "    _score = score.copy()\n",
    "    counts = pd.Series(y_test).value_counts().sort_index().to_frame().T\n",
    "    _score['weighted_average'] = (_score.drop('accuracy').drop('average', axis=1).values * counts.values / counts.values.sum()).sum(axis=1).tolist()+[_score['average'].loc['accuracy']]\n",
    "    return _score"
   ]
  },
  {
   "cell_type": "code",
   "execution_count": 161,
   "metadata": {},
   "outputs": [],
   "source": [
    "\"\"\"\n",
    "input_units: int, number of units in input layer / number of features (not first hidden layer)\n",
    "output_units: int, number of units in output layer / number of output nodes / number of classes (not last hidden layer)\n",
    "unit_factors: array of ints or floats, multipliers to calculate number of units in each hidden layer from input_units, or actual number of units for each hidden layer\n",
    "dropout_rate: dropout ratio\n",
    "model_type: {'classification', 'regression'}, controls use of softmax on top of output layer\n",
    "actual_units: bool, whether actual units are placed in unit_factors or not\n",
    "\"\"\"\n",
    "def define_layers(input_units, output_units, unit_factors, dropout_rate, model_type, actual_units=False):\n",
    "    if actual_units:\n",
    "        hidden_units = unit_factors.copy()\n",
    "    else:\n",
    "        hidden_units = [input_units * factor for factor in unit_factors]\n",
    "    units = [input_units] + hidden_units + [output_units]\n",
    "    units = [int(i) for i in units]\n",
    "    \n",
    "    layers = []\n",
    "    for i in range(len(unit_factors)):\n",
    "        layers.append(nn.Linear(units[i], units[i + 1]))\n",
    "        layers.append(nn.Sigmoid())\n",
    "        layers.append(nn.BatchNorm1d(units[i + 1]))\n",
    "        layers.append(nn.Dropout(dropout_rate))\n",
    "    layers.append(nn.Linear(units[-2], units[-1]))\n",
    "    if model_type == 'classifier':\n",
    "        layers.append(nn.Softmax(dim=1))\n",
    "    return layers"
   ]
  },
  {
   "cell_type": "code",
   "execution_count": 162,
   "metadata": {},
   "outputs": [],
   "source": [
    "# storing the models and loading them\n",
    "def store_models(models, folder_path):\n",
    "    if not os.path.exists(folder_path): os.makedirs(folder_path)\n",
    "    for modelname in models:\n",
    "        print('storing models... %s_model...'%modelname, end='')\n",
    "        if 'pytorch' in modelname.lower():\n",
    "            torch.save(models[modelname].model.state_dict(), folder_path + '/%s_model.pt'%modelname)\n",
    "        else:\n",
    "            with open(folder_path + '/%s_model.pickle'%modelname, 'wb') as f:\n",
    "                joblib.dump(models[modelname], f)\n",
    "        print('   ...storing completed !!')\n",
    "    \n",
    "def load_models(models, folder_path):\n",
    "    for modelname in models:\n",
    "        print('\\rloading models... %s_model...'%modelname, end='')\n",
    "        if 'pytorch' in modelname.lower():\n",
    "            models[modelname].model.load_state_dict(torch.load(folder_path + '/%s_model.pt'%modelname))\n",
    "        else:\n",
    "            with open(folder_path + '%s_model.pickle'%modelname, 'rb') as f:\n",
    "                models[modelname] = joblib.load(f)\n",
    "        print('   ...loading completed !!')\n",
    "    return models"
   ]
  },
  {
   "cell_type": "code",
   "execution_count": 163,
   "metadata": {},
   "outputs": [],
   "source": [
    "\"\"\"\n",
    "n_layers: number of hidden layers\n",
    "offset_factor: makes assymetric structure (base - offset)\n",
    "max_factor: multiplier for mid layer (largest layer)\n",
    "base_factor: multiplier for first layer\n",
    "\"\"\"\n",
    "def get_factors(n_layers, base_factor=5, max_factor=10, offset_factor=2):\n",
    "    base_factor = max_factor - base_factor\n",
    "    return [max_factor - abs(x) for x in np.linspace(-base_factor, base_factor + offset_factor, n_layers) if max_factor - abs(x) > 0]"
   ]
  },
  {
   "cell_type": "code",
   "execution_count": 164,
   "metadata": {},
   "outputs": [],
   "source": [
    "def prepare_row(age, product, outcome, therapy, effects, zeros, val2index, columns):\n",
    "    # adding the data to stack\n",
    "    _zeros = {key: zeros[key].copy() for key in zeros}\n",
    "    # stacking clinical effect\n",
    "    for k in effects: _zeros['Clinical_Effect'][val2index['Clinical_Effect'][k]] = 1\n",
    "    for k in therapy: _zeros['Therapy'][val2index['Therapy'][k]] = 1\n",
    "    # stacking medical outcome\n",
    "    _zeros['Medical_Outcome'][val2index['Medical_Outcome'][outcome]] = 1\n",
    "    # combining\n",
    "    row = np.concatenate([[age]] + [_zeros[col] for col in columns] + [[product]], axis=0)\n",
    "    return row"
   ]
  },
  {
   "cell_type": "code",
   "execution_count": 165,
   "metadata": {},
   "outputs": [],
   "source": [
    "def prepare_data(_rawdata, ):\n",
    "    \n",
    "    rawdata = _rawdata.copy()\n",
    "    # filling nan values\n",
    "    for c in rawdata.columns:\n",
    "        rawdata[c] = rawdata[c].fillna('NAN').replace(' ', '').replace('', 'NAN')\n",
    "    \n",
    "    # extrcting data from rows\n",
    "    columns = ['Clinical_Effect', 'Therapy', 'Medical_Outcome']\n",
    "    val2index = {col: {k: i for i, k in enumerate(np.sort(rawdata[col].unique()))} for col in columns}\n",
    "    zeros = {col: np.zeros(rawdata[col].unique().shape[0]) for col in columns}\n",
    "\n",
    "    # initializing counts\n",
    "    product = rawdata['Product'].iloc[0]\n",
    "    age = rawdata['Age'].iloc[0]\n",
    "    effects = [rawdata['Clinical_Effect'].iloc[0]]\n",
    "    outcome = rawdata['Medical_Outcome'].iloc[0]\n",
    "    therapy = [rawdata['Therapy'].iloc[0]]\n",
    "    root_index = [0]\n",
    "    data_stack = []\n",
    "    for i in tqdm(range(1, rawdata.shape[0])):\n",
    "        if rawdata['Product'].iloc[i] != 'NAN':\n",
    "            row = prepare_row(age, product, outcome, therapy, effects, zeros, val2index, columns)\n",
    "            data_stack.append(row)\n",
    "            # initializing again\n",
    "            product = rawdata['Product'].iloc[i]\n",
    "            age = rawdata['Age'].iloc[i]\n",
    "            effects = [rawdata['Clinical_Effect'].iloc[i]]\n",
    "            outcome = rawdata['Medical_Outcome'].iloc[i]\n",
    "            therapy = [rawdata['Therapy'].iloc[i]]\n",
    "            root_index.append(i)\n",
    "        else:\n",
    "            # appending effects\n",
    "            effects.append(rawdata['Clinical_Effect'].iloc[i])\n",
    "            therapy.append(rawdata['Therapy'].iloc[i])\n",
    "    row = prepare_row(age, product, outcome, therapy, effects, zeros, val2index, columns)\n",
    "    data_stack.append(row)\n",
    "    \n",
    "    cols = ['%s: %s'%(col, k) for col in columns for k in pd.Series(val2index[col]).to_frame(col).reset_index(drop=False).set_index(col).sort_index()['index'].to_list()]\n",
    "    return pd.DataFrame(np.array(data_stack), columns=['Age'] + cols + ['Product']), root_index"
   ]
  },
  {
   "attachments": {},
   "cell_type": "markdown",
   "metadata": {},
   "source": [
    "### (AshisKB) Read the conglomerated dataset"
   ]
  },
  {
   "cell_type": "code",
   "execution_count": 166,
   "metadata": {},
   "outputs": [],
   "source": [
    "df=pd.read_spss(dataset_root+\"good.sav\")"
   ]
  },
  {
   "cell_type": "code",
   "execution_count": 167,
   "metadata": {},
   "outputs": [
    {
     "data": {
      "text/html": [
       "<div>\n",
       "<style scoped>\n",
       "    .dataframe tbody tr th:only-of-type {\n",
       "        vertical-align: middle;\n",
       "    }\n",
       "\n",
       "    .dataframe tbody tr th {\n",
       "        vertical-align: top;\n",
       "    }\n",
       "\n",
       "    .dataframe thead th {\n",
       "        text-align: right;\n",
       "    }\n",
       "</style>\n",
       "<table border=\"1\" class=\"dataframe\">\n",
       "  <thead>\n",
       "    <tr style=\"text-align: right;\">\n",
       "      <th></th>\n",
       "      <th>ADRtotreatment</th>\n",
       "      <th>ASTALTgt1000</th>\n",
       "      <th>ASTALTgt100lt1000</th>\n",
       "      <th>AbdominalPain</th>\n",
       "      <th>Acidosis</th>\n",
       "      <th>Agitation</th>\n",
       "      <th>Alkalosis</th>\n",
       "      <th>Aniongapincreased</th>\n",
       "      <th>Anorexia</th>\n",
       "      <th>Asystole</th>\n",
       "      <th>...</th>\n",
       "      <th>Xrayfindings</th>\n",
       "      <th>Age</th>\n",
       "      <th>reason__Intentional</th>\n",
       "      <th>reason__Other</th>\n",
       "      <th>reason__Unintentional</th>\n",
       "      <th>Medical_Outcome__Majoreffect</th>\n",
       "      <th>Medical_Outcome__Minoreffect</th>\n",
       "      <th>Medical_Outcome__Moderateeffect</th>\n",
       "      <th>product</th>\n",
       "      <th>gender__Male</th>\n",
       "    </tr>\n",
       "  </thead>\n",
       "  <tbody>\n",
       "    <tr>\n",
       "      <th>0</th>\n",
       "      <td>0.0</td>\n",
       "      <td>0.0</td>\n",
       "      <td>0.0</td>\n",
       "      <td>0.0</td>\n",
       "      <td>0.0</td>\n",
       "      <td>0.0</td>\n",
       "      <td>0.0</td>\n",
       "      <td>0.0</td>\n",
       "      <td>0.0</td>\n",
       "      <td>0.0</td>\n",
       "      <td>...</td>\n",
       "      <td>0.0</td>\n",
       "      <td>69.0</td>\n",
       "      <td>1.0</td>\n",
       "      <td>0.0</td>\n",
       "      <td>0.0</td>\n",
       "      <td>0.0</td>\n",
       "      <td>0.0</td>\n",
       "      <td>1.0</td>\n",
       "      <td>Benzodiazepines</td>\n",
       "      <td>0.0</td>\n",
       "    </tr>\n",
       "    <tr>\n",
       "      <th>1</th>\n",
       "      <td>0.0</td>\n",
       "      <td>0.0</td>\n",
       "      <td>0.0</td>\n",
       "      <td>0.0</td>\n",
       "      <td>0.0</td>\n",
       "      <td>0.0</td>\n",
       "      <td>0.0</td>\n",
       "      <td>0.0</td>\n",
       "      <td>0.0</td>\n",
       "      <td>0.0</td>\n",
       "      <td>...</td>\n",
       "      <td>0.0</td>\n",
       "      <td>16.0</td>\n",
       "      <td>1.0</td>\n",
       "      <td>0.0</td>\n",
       "      <td>0.0</td>\n",
       "      <td>0.0</td>\n",
       "      <td>0.0</td>\n",
       "      <td>1.0</td>\n",
       "      <td>Diphenhydramine</td>\n",
       "      <td>1.0</td>\n",
       "    </tr>\n",
       "    <tr>\n",
       "      <th>2</th>\n",
       "      <td>0.0</td>\n",
       "      <td>0.0</td>\n",
       "      <td>0.0</td>\n",
       "      <td>0.0</td>\n",
       "      <td>0.0</td>\n",
       "      <td>1.0</td>\n",
       "      <td>0.0</td>\n",
       "      <td>0.0</td>\n",
       "      <td>0.0</td>\n",
       "      <td>0.0</td>\n",
       "      <td>...</td>\n",
       "      <td>0.0</td>\n",
       "      <td>17.0</td>\n",
       "      <td>1.0</td>\n",
       "      <td>0.0</td>\n",
       "      <td>0.0</td>\n",
       "      <td>0.0</td>\n",
       "      <td>1.0</td>\n",
       "      <td>0.0</td>\n",
       "      <td>Diphenhydramine</td>\n",
       "      <td>0.0</td>\n",
       "    </tr>\n",
       "    <tr>\n",
       "      <th>3</th>\n",
       "      <td>0.0</td>\n",
       "      <td>0.0</td>\n",
       "      <td>0.0</td>\n",
       "      <td>0.0</td>\n",
       "      <td>0.0</td>\n",
       "      <td>0.0</td>\n",
       "      <td>0.0</td>\n",
       "      <td>0.0</td>\n",
       "      <td>0.0</td>\n",
       "      <td>0.0</td>\n",
       "      <td>...</td>\n",
       "      <td>0.0</td>\n",
       "      <td>32.0</td>\n",
       "      <td>1.0</td>\n",
       "      <td>0.0</td>\n",
       "      <td>0.0</td>\n",
       "      <td>0.0</td>\n",
       "      <td>0.0</td>\n",
       "      <td>1.0</td>\n",
       "      <td>Diphenhydramine</td>\n",
       "      <td>1.0</td>\n",
       "    </tr>\n",
       "    <tr>\n",
       "      <th>4</th>\n",
       "      <td>0.0</td>\n",
       "      <td>0.0</td>\n",
       "      <td>0.0</td>\n",
       "      <td>0.0</td>\n",
       "      <td>1.0</td>\n",
       "      <td>0.0</td>\n",
       "      <td>0.0</td>\n",
       "      <td>0.0</td>\n",
       "      <td>0.0</td>\n",
       "      <td>0.0</td>\n",
       "      <td>...</td>\n",
       "      <td>0.0</td>\n",
       "      <td>25.0</td>\n",
       "      <td>1.0</td>\n",
       "      <td>0.0</td>\n",
       "      <td>0.0</td>\n",
       "      <td>1.0</td>\n",
       "      <td>0.0</td>\n",
       "      <td>0.0</td>\n",
       "      <td>Bupropion</td>\n",
       "      <td>0.0</td>\n",
       "    </tr>\n",
       "  </tbody>\n",
       "</table>\n",
       "<p>5 rows × 134 columns</p>\n",
       "</div>"
      ],
      "text/plain": [
       "   ADRtotreatment  ASTALTgt1000  ASTALTgt100lt1000  AbdominalPain  Acidosis  \\\n",
       "0             0.0           0.0                0.0            0.0       0.0   \n",
       "1             0.0           0.0                0.0            0.0       0.0   \n",
       "2             0.0           0.0                0.0            0.0       0.0   \n",
       "3             0.0           0.0                0.0            0.0       0.0   \n",
       "4             0.0           0.0                0.0            0.0       1.0   \n",
       "\n",
       "   Agitation  Alkalosis  Aniongapincreased  Anorexia  Asystole  ...  \\\n",
       "0        0.0        0.0                0.0       0.0       0.0  ...   \n",
       "1        0.0        0.0                0.0       0.0       0.0  ...   \n",
       "2        1.0        0.0                0.0       0.0       0.0  ...   \n",
       "3        0.0        0.0                0.0       0.0       0.0  ...   \n",
       "4        0.0        0.0                0.0       0.0       0.0  ...   \n",
       "\n",
       "   Xrayfindings   Age  reason__Intentional  reason__Other  \\\n",
       "0           0.0  69.0                  1.0            0.0   \n",
       "1           0.0  16.0                  1.0            0.0   \n",
       "2           0.0  17.0                  1.0            0.0   \n",
       "3           0.0  32.0                  1.0            0.0   \n",
       "4           0.0  25.0                  1.0            0.0   \n",
       "\n",
       "   reason__Unintentional  Medical_Outcome__Majoreffect  \\\n",
       "0                    0.0                           0.0   \n",
       "1                    0.0                           0.0   \n",
       "2                    0.0                           0.0   \n",
       "3                    0.0                           0.0   \n",
       "4                    0.0                           1.0   \n",
       "\n",
       "   Medical_Outcome__Minoreffect  Medical_Outcome__Moderateeffect  \\\n",
       "0                           0.0                              1.0   \n",
       "1                           0.0                              1.0   \n",
       "2                           1.0                              0.0   \n",
       "3                           0.0                              1.0   \n",
       "4                           0.0                              0.0   \n",
       "\n",
       "           product  gender__Male  \n",
       "0  Benzodiazepines           0.0  \n",
       "1  Diphenhydramine           1.0  \n",
       "2  Diphenhydramine           0.0  \n",
       "3  Diphenhydramine           1.0  \n",
       "4        Bupropion           0.0  \n",
       "\n",
       "[5 rows x 134 columns]"
      ]
     },
     "execution_count": 167,
     "metadata": {},
     "output_type": "execute_result"
    }
   ],
   "source": [
    "df.head()"
   ]
  },
  {
   "cell_type": "code",
   "execution_count": 168,
   "metadata": {},
   "outputs": [
    {
     "name": "stdout",
     "output_type": "stream",
     "text": [
      "Num of samples = 206027, \n",
      "num of variables = 134\n"
     ]
    }
   ],
   "source": [
    "#shape of the dataset\n",
    "print(f'Num of samples = {df.shape[0]}, \\nnum of variables = {df.shape[1]}')"
   ]
  },
  {
   "cell_type": "code",
   "execution_count": 169,
   "metadata": {},
   "outputs": [
    {
     "name": "stdout",
     "output_type": "stream",
     "text": [
      "List of 134 variable names = ['ADRtotreatment', 'ASTALTgt1000', 'ASTALTgt100lt1000', 'AbdominalPain', 'Acidosis', 'Agitation', 'Alkalosis', 'Aniongapincreased', 'Anorexia', 'Asystole', 'Ataxia', 'Bilirubinincreased', 'Bleedingother', 'BlistersBullae', 'Bloodperrectumother', 'Blurredvision', 'Bradycardia', 'Bronchospasm', 'Burns', 'Burnssuperficial', 'Burns23degree', 'CPKelevated', 'CVA', 'Cardiacarrest', 'Cellulitis', 'Chestpaininclnoncardiac', 'Coagulopathyother', 'Coma', 'Conductiondisturbance', 'Confusion', 'Constipation', 'Cornealabrasion', 'Creatinineincreased', 'Cyanosis', 'Cytopenia', 'DIC', 'Deafness', 'Dehydration', 'DermalIrritationpain', 'Diaphoresis', 'Diarrhea', 'Dizzinessvertigo', 'Drowsinesslethargy', 'Dysphagia', 'Dyspnea', 'DysrhythmiaotherNOS', 'ECGchangeotherNOS', 'EPSdystonia', 'Ecchymosis', 'Edema', 'Electrolyteabnormality', 'Erythemaflushed', 'Esophagealinjury', 'Esophagealstricture', 'Excesssecretions', 'Fasciculations', 'Fecalincontinence', 'Fetaldeath', 'Feverhyperthermia', 'Gastricburns', 'Hallucinationsdelusions', 'Hematemesis', 'Hematuria', 'Hemomyoglobinuria', 'Hemolysis', 'Hiveswelts', 'Hyperglycemia', 'Hypertension', 'Hyperventilationtachypnea', 'Hypoglycemia', 'Hypotension', 'Hypothermia', 'Ileusnobowelsounds', 'Intracranialbleed', 'LFTabnormalityother', 'Lacrimation', 'Melena', 'Miosis', 'MultipleChemicalSensitivities', 'Musclerigidity', 'Muscleweakness', 'Mydriasis', 'Nausea', 'Necrosis', 'Numbness', 'Nystagmus', 'Oliguriaanuria', 'Oralburnsincllips', 'Oropharyngealedema', 'Osmolalgapincreased', 'OtherMiscellaneous', 'Oxalatecrystalsurine', 'PTINRprolonged', 'Pallor', 'Paralysis', 'Peripheralneuropathy', 'Photophobia', 'Pneumonitis', 'Polyuria', 'Pruritus', 'Pulmonaryedema', 'Puncturewoundsting', 'Pupilsnonreactive', 'Rash', 'Redeyeconjunctivitis', 'Renalfailure', 'Respiratoryarrest', 'Respiratorydepression', 'Rhabdomyolysis', 'Seizuresingle', 'Seizuresmultidiscrete', 'Seizuresstatus', 'Slurredspeech', 'Syncope', 'Tachycardia', 'Throatirritation', 'Tinnitus', 'Tremor', 'Urinaryincontinence', 'Urinaryretention', 'Urinecolorchange', 'VtachycardiaVfibrillation', 'Visualdefect', 'Vomiting', 'Xrayfindings', 'Age', 'reason__Intentional', 'reason__Other', 'reason__Unintentional', 'Medical_Outcome__Majoreffect', 'Medical_Outcome__Minoreffect', 'Medical_Outcome__Moderateeffect', 'product', 'gender__Male']\n"
     ]
    }
   ],
   "source": [
    "#list all column names~\n",
    "print(f'List of {df.shape[1]} variable names = {list(df.columns)}')"
   ]
  },
  {
   "cell_type": "code",
   "execution_count": 170,
   "metadata": {},
   "outputs": [
    {
     "data": {
      "image/png": "[encoded data removed]",
      "text/plain": [
       "<Figure size 640x480 with 1 Axes>"
      ]
     },
     "metadata": {},
     "output_type": "display_data"
    }
   ],
   "source": [
    "#target variable/column = 'product'\n",
    "\n",
    "sns.countplot(y = 'product', data=df, order=df['product'].value_counts().index).set(title='Class distribution plot')\n",
    "plt.savefig('figures/class_distribution_before_del_classes.svg')"
   ]
  },
  {
   "cell_type": "code",
   "execution_count": 171,
   "metadata": {},
   "outputs": [
    {
     "data": {
      "text/plain": [
       "Benzodiazepines                      68536\n",
       "Diphenhydramine                      51798\n",
       "Acetaminophen                        38033\n",
       "Acetylsalicylic Acid Alone           15268\n",
       "Bupropion                            12328\n",
       "Lithium                               9434\n",
       "Calcium Antagonist, Alone             2945\n",
       "Methadone                             2791\n",
       "Oral Hypoglycemics: Sulfonylureas     2689\n",
       "Oral Hypoglycemics: Biguanides        2205\n",
       "Name: product, dtype: int64"
      ]
     },
     "execution_count": 171,
     "metadata": {},
     "output_type": "execute_result"
    }
   ],
   "source": [
    "df['product'].value_counts()"
   ]
  },
  {
   "cell_type": "code",
   "execution_count": 172,
   "metadata": {},
   "outputs": [],
   "source": [
    "# removing products to reduce number of target class\n",
    "del_classes = ['Methadone', 'Oral Hypoglycemics: Biguanides','Bupropion','Calcium Antagonist, Alone']\n",
    "# del_classes = []\n",
    "\n",
    "df_minus4 = df.set_index('product').loc[[i for i in df['product'].unique() if i not in del_classes]].reset_index(drop=False)\n"
   ]
  },
  {
   "cell_type": "code",
   "execution_count": 173,
   "metadata": {},
   "outputs": [
    {
     "data": {
      "text/html": [
       "<div>\n",
       "<style scoped>\n",
       "    .dataframe tbody tr th:only-of-type {\n",
       "        vertical-align: middle;\n",
       "    }\n",
       "\n",
       "    .dataframe tbody tr th {\n",
       "        vertical-align: top;\n",
       "    }\n",
       "\n",
       "    .dataframe thead th {\n",
       "        text-align: right;\n",
       "    }\n",
       "</style>\n",
       "<table border=\"1\" class=\"dataframe\">\n",
       "  <thead>\n",
       "    <tr style=\"text-align: right;\">\n",
       "      <th></th>\n",
       "      <th>product</th>\n",
       "      <th>ADRtotreatment</th>\n",
       "      <th>ASTALTgt1000</th>\n",
       "      <th>ASTALTgt100lt1000</th>\n",
       "      <th>AbdominalPain</th>\n",
       "      <th>Acidosis</th>\n",
       "      <th>Agitation</th>\n",
       "      <th>Alkalosis</th>\n",
       "      <th>Aniongapincreased</th>\n",
       "      <th>Anorexia</th>\n",
       "      <th>...</th>\n",
       "      <th>Vomiting</th>\n",
       "      <th>Xrayfindings</th>\n",
       "      <th>Age</th>\n",
       "      <th>reason__Intentional</th>\n",
       "      <th>reason__Other</th>\n",
       "      <th>reason__Unintentional</th>\n",
       "      <th>Medical_Outcome__Majoreffect</th>\n",
       "      <th>Medical_Outcome__Minoreffect</th>\n",
       "      <th>Medical_Outcome__Moderateeffect</th>\n",
       "      <th>gender__Male</th>\n",
       "    </tr>\n",
       "  </thead>\n",
       "  <tbody>\n",
       "    <tr>\n",
       "      <th>0</th>\n",
       "      <td>Benzodiazepines</td>\n",
       "      <td>0.0</td>\n",
       "      <td>0.0</td>\n",
       "      <td>0.0</td>\n",
       "      <td>0.0</td>\n",
       "      <td>0.0</td>\n",
       "      <td>0.0</td>\n",
       "      <td>0.0</td>\n",
       "      <td>0.0</td>\n",
       "      <td>0.0</td>\n",
       "      <td>...</td>\n",
       "      <td>0.0</td>\n",
       "      <td>0.0</td>\n",
       "      <td>69.0</td>\n",
       "      <td>1.0</td>\n",
       "      <td>0.0</td>\n",
       "      <td>0.0</td>\n",
       "      <td>0.0</td>\n",
       "      <td>0.0</td>\n",
       "      <td>1.0</td>\n",
       "      <td>0.0</td>\n",
       "    </tr>\n",
       "    <tr>\n",
       "      <th>1</th>\n",
       "      <td>Benzodiazepines</td>\n",
       "      <td>0.0</td>\n",
       "      <td>0.0</td>\n",
       "      <td>0.0</td>\n",
       "      <td>0.0</td>\n",
       "      <td>0.0</td>\n",
       "      <td>0.0</td>\n",
       "      <td>0.0</td>\n",
       "      <td>0.0</td>\n",
       "      <td>0.0</td>\n",
       "      <td>...</td>\n",
       "      <td>0.0</td>\n",
       "      <td>0.0</td>\n",
       "      <td>26.0</td>\n",
       "      <td>0.0</td>\n",
       "      <td>1.0</td>\n",
       "      <td>0.0</td>\n",
       "      <td>0.0</td>\n",
       "      <td>1.0</td>\n",
       "      <td>0.0</td>\n",
       "      <td>0.0</td>\n",
       "    </tr>\n",
       "    <tr>\n",
       "      <th>2</th>\n",
       "      <td>Benzodiazepines</td>\n",
       "      <td>0.0</td>\n",
       "      <td>0.0</td>\n",
       "      <td>0.0</td>\n",
       "      <td>0.0</td>\n",
       "      <td>0.0</td>\n",
       "      <td>0.0</td>\n",
       "      <td>0.0</td>\n",
       "      <td>0.0</td>\n",
       "      <td>0.0</td>\n",
       "      <td>...</td>\n",
       "      <td>0.0</td>\n",
       "      <td>0.0</td>\n",
       "      <td>55.0</td>\n",
       "      <td>0.0</td>\n",
       "      <td>0.0</td>\n",
       "      <td>1.0</td>\n",
       "      <td>0.0</td>\n",
       "      <td>0.0</td>\n",
       "      <td>1.0</td>\n",
       "      <td>0.0</td>\n",
       "    </tr>\n",
       "    <tr>\n",
       "      <th>3</th>\n",
       "      <td>Benzodiazepines</td>\n",
       "      <td>0.0</td>\n",
       "      <td>0.0</td>\n",
       "      <td>0.0</td>\n",
       "      <td>0.0</td>\n",
       "      <td>0.0</td>\n",
       "      <td>0.0</td>\n",
       "      <td>0.0</td>\n",
       "      <td>0.0</td>\n",
       "      <td>0.0</td>\n",
       "      <td>...</td>\n",
       "      <td>0.0</td>\n",
       "      <td>0.0</td>\n",
       "      <td>17.0</td>\n",
       "      <td>1.0</td>\n",
       "      <td>0.0</td>\n",
       "      <td>0.0</td>\n",
       "      <td>0.0</td>\n",
       "      <td>1.0</td>\n",
       "      <td>0.0</td>\n",
       "      <td>1.0</td>\n",
       "    </tr>\n",
       "    <tr>\n",
       "      <th>4</th>\n",
       "      <td>Benzodiazepines</td>\n",
       "      <td>0.0</td>\n",
       "      <td>0.0</td>\n",
       "      <td>0.0</td>\n",
       "      <td>0.0</td>\n",
       "      <td>0.0</td>\n",
       "      <td>0.0</td>\n",
       "      <td>0.0</td>\n",
       "      <td>0.0</td>\n",
       "      <td>0.0</td>\n",
       "      <td>...</td>\n",
       "      <td>0.0</td>\n",
       "      <td>0.0</td>\n",
       "      <td>47.0</td>\n",
       "      <td>1.0</td>\n",
       "      <td>0.0</td>\n",
       "      <td>0.0</td>\n",
       "      <td>0.0</td>\n",
       "      <td>1.0</td>\n",
       "      <td>0.0</td>\n",
       "      <td>0.0</td>\n",
       "    </tr>\n",
       "  </tbody>\n",
       "</table>\n",
       "<p>5 rows × 134 columns</p>\n",
       "</div>"
      ],
      "text/plain": [
       "           product  ADRtotreatment  ASTALTgt1000  ASTALTgt100lt1000  \\\n",
       "0  Benzodiazepines             0.0           0.0                0.0   \n",
       "1  Benzodiazepines             0.0           0.0                0.0   \n",
       "2  Benzodiazepines             0.0           0.0                0.0   \n",
       "3  Benzodiazepines             0.0           0.0                0.0   \n",
       "4  Benzodiazepines             0.0           0.0                0.0   \n",
       "\n",
       "   AbdominalPain  Acidosis  Agitation  Alkalosis  Aniongapincreased  Anorexia  \\\n",
       "0            0.0       0.0        0.0        0.0                0.0       0.0   \n",
       "1            0.0       0.0        0.0        0.0                0.0       0.0   \n",
       "2            0.0       0.0        0.0        0.0                0.0       0.0   \n",
       "3            0.0       0.0        0.0        0.0                0.0       0.0   \n",
       "4            0.0       0.0        0.0        0.0                0.0       0.0   \n",
       "\n",
       "   ...  Vomiting  Xrayfindings   Age  reason__Intentional  reason__Other  \\\n",
       "0  ...       0.0           0.0  69.0                  1.0            0.0   \n",
       "1  ...       0.0           0.0  26.0                  0.0            1.0   \n",
       "2  ...       0.0           0.0  55.0                  0.0            0.0   \n",
       "3  ...       0.0           0.0  17.0                  1.0            0.0   \n",
       "4  ...       0.0           0.0  47.0                  1.0            0.0   \n",
       "\n",
       "   reason__Unintentional  Medical_Outcome__Majoreffect  \\\n",
       "0                    0.0                           0.0   \n",
       "1                    0.0                           0.0   \n",
       "2                    1.0                           0.0   \n",
       "3                    0.0                           0.0   \n",
       "4                    0.0                           0.0   \n",
       "\n",
       "   Medical_Outcome__Minoreffect  Medical_Outcome__Moderateeffect  gender__Male  \n",
       "0                           0.0                              1.0           0.0  \n",
       "1                           1.0                              0.0           0.0  \n",
       "2                           0.0                              1.0           0.0  \n",
       "3                           1.0                              0.0           1.0  \n",
       "4                           1.0                              0.0           0.0  \n",
       "\n",
       "[5 rows x 134 columns]"
      ]
     },
     "execution_count": 173,
     "metadata": {},
     "output_type": "execute_result"
    }
   ],
   "source": [
    "df_minus4.head()"
   ]
  },
  {
   "cell_type": "code",
   "execution_count": 174,
   "metadata": {},
   "outputs": [
    {
     "name": "stdout",
     "output_type": "stream",
     "text": [
      "Num of samples = 185758, \n",
      "num of variables = 134\n"
     ]
    }
   ],
   "source": [
    "#shape of the dataset\n",
    "print(f'Num of samples = {df_minus4.shape[0]}, \\nnum of variables = {df_minus4.shape[1]}')"
   ]
  },
  {
   "cell_type": "code",
   "execution_count": 175,
   "metadata": {},
   "outputs": [
    {
     "data": {
      "image/png": "[encoded data removed]",
      "text/plain": [
       "<Figure size 640x480 with 1 Axes>"
      ]
     },
     "metadata": {},
     "output_type": "display_data"
    }
   ],
   "source": [
    "#target variable/column = 'product'\n",
    "\n",
    "sns.countplot(y = 'product', data=df_minus4, order=df_minus4['product'].value_counts().index).set(title='Class distribution plot')\n",
    "plt.savefig('figures/class_distribution_after_del_classes.svg')"
   ]
  },
  {
   "cell_type": "code",
   "execution_count": 176,
   "metadata": {},
   "outputs": [
    {
     "data": {
      "text/plain": [
       "Benzodiazepines                      68536\n",
       "Diphenhydramine                      51798\n",
       "Acetaminophen                        38033\n",
       "Acetylsalicylic Acid Alone           15268\n",
       "Lithium                               9434\n",
       "Oral Hypoglycemics: Sulfonylureas     2689\n",
       "Name: product, dtype: int64"
      ]
     },
     "execution_count": 176,
     "metadata": {},
     "output_type": "execute_result"
    }
   ],
   "source": [
    "df_minus4['product'].value_counts()"
   ]
  },
  {
   "cell_type": "code",
   "execution_count": 177,
   "metadata": {},
   "outputs": [],
   "source": [
    "#display(HTML(\"<style>.container { width:100% !important; }</style>\"))\n",
    "#pd.set_option('display.max_columns', None)"
   ]
  },
  {
   "cell_type": "code",
   "execution_count": 178,
   "metadata": {},
   "outputs": [],
   "source": [
    "#rawdata = pd.read_spss('final.csv.for abdullah.sav').replace('', np.nan).drop('productnew', axis=1)\n",
    "#rawdata['Medical_Outcome'].iloc[0] = 'Minor effect'\n",
    "#rawdata['Therapy'].iloc[0] = 'Fluids, IV'\n",
    "#rawdata"
   ]
  },
  {
   "cell_type": "code",
   "execution_count": 179,
   "metadata": {},
   "outputs": [],
   "source": [
    "# total products found\n",
    "#rawdata['Product'].dropna().shape"
   ]
  },
  {
   "cell_type": "code",
   "execution_count": 180,
   "metadata": {
    "scrolled": true
   },
   "outputs": [],
   "source": [
    "### Process data to create one hot table for categorical features\n",
    "#newdata, raw_index = prepare_data(rawdata)\n",
    "#for c in newdata.columns:\n",
    "#    if c == 'Age': newdata[c] = newdata[c].values.astype(float)\n",
    "#    elif c == 'Product': pass\n",
    "#    else: newdata[c] = newdata[c].values.astype(float).astype(int)\n",
    "#\n",
    "#newdata.to_pickle('raw_to_processed_data.pickle')"
   ]
  },
  {
   "attachments": {},
   "cell_type": "markdown",
   "metadata": {},
   "source": [
    "### (AshisKB) Prepare training data set 'data'"
   ]
  },
  {
   "cell_type": "code",
   "execution_count": 181,
   "metadata": {},
   "outputs": [],
   "source": [
    "\n",
    "#### Verification of data set organizing process# i = 10100\n",
    "# idx1, idx2 = rawdata['Product'].dropna().index[i], rawdata['Product'].dropna().index[i+1]\n",
    "# idx1, idx2"
   ]
  },
  {
   "cell_type": "code",
   "execution_count": 182,
   "metadata": {},
   "outputs": [],
   "source": [
    "# rawdata.iloc[idx1: idx2+1]"
   ]
  },
  {
   "cell_type": "code",
   "execution_count": 183,
   "metadata": {},
   "outputs": [],
   "source": [
    "# newdata.iloc[i][newdata.iloc[i].astype(bool)].to_frame().T"
   ]
  },
  {
   "cell_type": "code",
   "execution_count": 184,
   "metadata": {
    "scrolled": true
   },
   "outputs": [],
   "source": [
    "# # selecting only clinical effect features\n",
    "# effect_cols = [c for c in newdata.columns if 'Clinical_Effect:' in c]\n",
    "# data = pd.DataFrame(newdata[effect_cols].copy())\n",
    "# data.columns = [k.replace('Clinical_Effect: ', '') for k in data.columns]\n",
    "# data['product'] = newdata['product'].copy()\n",
    "# data"
   ]
  },
  {
   "cell_type": "code",
   "execution_count": 185,
   "metadata": {},
   "outputs": [],
   "source": [
    "# available products\n",
    "#data['product'].unique()"
   ]
  },
  {
   "cell_type": "code",
   "execution_count": 186,
   "metadata": {},
   "outputs": [],
   "source": [
    "# removing products to reduce number of target class\n",
    "#del_classes = ['Methadone', 'Oral Hypoglycemics: Biguanides','Bupropion','Calcium Antagonist, Alone']\n",
    "# del_classes = []\n",
    "\n",
    "#data = data.set_index('product').loc[[i for i in data['product'].unique() if i not in del_classes]].reset_index(drop=False)\n",
    "\n",
    "\n",
    "\n"
   ]
  },
  {
   "cell_type": "code",
   "execution_count": 187,
   "metadata": {},
   "outputs": [],
   "source": [
    "#data.head()"
   ]
  },
  {
   "cell_type": "code",
   "execution_count": 188,
   "metadata": {},
   "outputs": [
    {
     "name": "stdout",
     "output_type": "stream",
     "text": [
      "<class 'pandas.core.frame.DataFrame'>\n",
      "RangeIndex: 185758 entries, 0 to 185757\n",
      "Columns: 134 entries, product to gender__Male\n",
      "dtypes: float64(133), object(1)\n",
      "memory usage: 189.9+ MB\n",
      "None\n"
     ]
    },
    {
     "data": {
      "text/plain": [
       "0"
      ]
     },
     "execution_count": 188,
     "metadata": {},
     "output_type": "execute_result"
    }
   ],
   "source": [
    "# checking nan values if any\n",
    "print(df_minus4.info())\n",
    "df_minus4.isnull().sum().sum()"
   ]
  },
  {
   "cell_type": "code",
   "execution_count": 189,
   "metadata": {},
   "outputs": [],
   "source": [
    "#df_minus4.nunique().unique()"
   ]
  },
  {
   "cell_type": "code",
   "execution_count": 190,
   "metadata": {},
   "outputs": [],
   "source": [
    "# checking number of labels in each class\n",
    "#data['product'].value_counts()"
   ]
  },
  {
   "cell_type": "code",
   "execution_count": null,
   "metadata": {},
   "outputs": [],
   "source": []
  },
  {
   "cell_type": "code",
   "execution_count": 191,
   "metadata": {},
   "outputs": [
    {
     "data": {
      "image/png": "[encoded data removed]",
      "text/plain": [
       "<Figure size 3000x500 with 1 Axes>"
      ]
     },
     "metadata": {},
     "output_type": "display_data"
    }
   ],
   "source": [
    "# # sample count (y-axis) for various number of clinical features (x axis)\n",
    "rowsum = df_minus4.drop('product', axis=1).sum(axis=1)\n",
    "rowsum.value_counts().sort_index().plot(kind='bar', figsize=(30, 5))\n",
    "plt.show()"
   ]
  },
  {
   "cell_type": "code",
   "execution_count": 192,
   "metadata": {
    "scrolled": true
   },
   "outputs": [
    {
     "data": {
      "text/plain": [
       "21.000000    6746\n",
       "20.000000    6742\n",
       "22.000000    6276\n",
       "19.000000    6136\n",
       "23.000000    5854\n",
       "             ... \n",
       "10.666667       1\n",
       "10.833333       1\n",
       "4.083333        1\n",
       "11.166667       1\n",
       "16.833333       1\n",
       "Length: 239, dtype: int64"
      ]
     },
     "execution_count": 192,
     "metadata": {},
     "output_type": "execute_result"
    }
   ],
   "source": [
    "rowsum.value_counts()"
   ]
  },
  {
   "cell_type": "code",
   "execution_count": 193,
   "metadata": {},
   "outputs": [
    {
     "data": {
      "text/plain": [
       "(array([], dtype=int64), array([], dtype=int64))"
      ]
     },
     "execution_count": 193,
     "metadata": {},
     "output_type": "execute_result"
    }
   ],
   "source": [
    "# # checking samples where only one clinical feature is present\n",
    "num = 1\n",
    "numdata = df_minus4.loc[rowsum[rowsum == num].index].drop('product', axis=1)\n",
    "idx = np.where(numdata.astype(bool))\n",
    "idx"
   ]
  },
  {
   "cell_type": "code",
   "execution_count": 194,
   "metadata": {},
   "outputs": [
    {
     "data": {
      "text/plain": [
       "Int64Index([], dtype='int64')"
      ]
     },
     "execution_count": 194,
     "metadata": {},
     "output_type": "execute_result"
    }
   ],
   "source": [
    "# # real index from 'data'\n",
    "numdata.index"
   ]
  },
  {
   "cell_type": "code",
   "execution_count": 195,
   "metadata": {
    "scrolled": true
   },
   "outputs": [
    {
     "data": {
      "text/plain": [
       "(185758, 134)"
      ]
     },
     "execution_count": 195,
     "metadata": {},
     "output_type": "execute_result"
    }
   ],
   "source": [
    "#### remove all indices/data where only one clinical effect is presentd\n",
    "df_minus4.drop(numdata.index, axis=0, inplace=True)\n",
    "df_minus4.shape"
   ]
  },
  {
   "cell_type": "code",
   "execution_count": 196,
   "metadata": {
    "scrolled": false
   },
   "outputs": [],
   "source": [
    "#### Remove only ambiguous indices where one clinical effect is present for minority classes\n",
    "\n",
    "#counts = []\n",
    "#columns = df_minus4.drop('product', axis=1).columns\n",
    "#for i in np.sort(np.unique(idx[1])):\n",
    "#    counts.append(df_minus4.loc[numdata.index[np.where(idx[1] == i)[0]]]['product'].value_counts().rename(columns[i]))\n",
    "#counts = pd.concat(counts, axis=1, sort=False)\n",
    "#counts.index = counts.index.to_list()\n",
    "#counts = pd.concat([counts, counts.sum().to_frame('sum').T, (counts.sum() - counts.max()).to_frame('# minority class instance').T], axis=0, sort=False)\n",
    "#counts"
   ]
  },
  {
   "cell_type": "code",
   "execution_count": 197,
   "metadata": {},
   "outputs": [],
   "source": [
    "## # collecting invalid indices based on minority classes\n",
    "#invalid_indices = []\n",
    "#\n",
    "#for feature in counts.columns:\n",
    "#    indices = numdata.index[idx[0][np.where(idx[1] == np.where(columns == feature)[0][0])[0]]].to_list()\n",
    "#    dom_feat = counts[feature].iloc[:-2].idxmax()\n",
    "#    rem_idx = data.loc[indices].reset_index(drop=False).set_index('product').drop(dom_feat, axis=0)['index'].to_list()\n",
    "#    invalid_indices += rem_idx\n",
    "#invalid_indices = sorted(invalid_indices)\n",
    "\n",
    "## # removing samples that are invalid\n",
    "#data.drop(invalid_indices, axis=0, inplace=True)"
   ]
  },
  {
   "cell_type": "code",
   "execution_count": 198,
   "metadata": {},
   "outputs": [],
   "source": [
    "### Additional data visualization\n",
    "\n",
    "# ratios = pd.Series(data.set_index('product').sum()/data.shape[0], name='ratio_1').to_frame()\n",
    "# ratios['ratio_0'] = 1 - ratios['ratio_1']\n",
    "# ratios.plot(kind='bar', figsize=(35, 6), title='ratio of 1 and 0 for all features', stacked=True)\n",
    "# plt.show()"
   ]
  },
  {
   "cell_type": "code",
   "execution_count": 199,
   "metadata": {
    "scrolled": true
   },
   "outputs": [],
   "source": [
    "# # ratio of 1 in different classes\n",
    "# feature_ratios = []\n",
    "# _data = data.set_index('product')\n",
    "# for c in data.columns.drop('product'):\n",
    "#     print(c)\n",
    "#     temp = _data[c][_data[c].astype(bool)]\n",
    "#     feature_ratios.append((temp.index.value_counts() / temp.shape[0]).rename(c))\n",
    "# feature_ratios = pd.concat(feature_ratios, axis=1, sort=False)\n",
    "# msd.plot_heatmap(feature_ratios, figsize=(40, 9))"
   ]
  },
  {
   "cell_type": "code",
   "execution_count": 200,
   "metadata": {},
   "outputs": [],
   "source": [
    "# feature_ratios.T.plot.barh(figsize=(10, 40), stacked=True)\n",
    "# plt.show()"
   ]
  },
  {
   "cell_type": "code",
   "execution_count": 201,
   "metadata": {},
   "outputs": [],
   "source": [
    "# onlydata = data.drop('product', axis=1).copy()\n",
    "# label = data['product'].copy()"
   ]
  },
  {
   "cell_type": "code",
   "execution_count": 202,
   "metadata": {
    "scrolled": true
   },
   "outputs": [],
   "source": [
    "# thres = .5\n",
    "\n",
    "# featsum = onlydata.sum()\n",
    "# sel_features = []\n",
    "# for _class in label.unique():\n",
    "#     idx = label == _class\n",
    "#     featratio = (onlydata[idx].sum() / featsum).to_frame('feature_coverage')\n",
    "#     featratio['class_coverage'] = onlydata[idx].sum() / idx.sum()\n",
    "#     sel_features += featratio['feature_coverage'][featratio['feature_coverage'] >= thres].index.to_list()\n",
    "#     featratio.plot.bar(figsize=(30, 6), title='%s feature distribution'%_class)\n",
    "#     plt.show()\n",
    "# sel_features"
   ]
  },
  {
   "cell_type": "code",
   "execution_count": 203,
   "metadata": {},
   "outputs": [],
   "source": [
    "# onlydata[sel_features].shape"
   ]
  },
  {
   "cell_type": "code",
   "execution_count": 204,
   "metadata": {},
   "outputs": [
    {
     "name": "stdout",
     "output_type": "stream",
     "text": [
      "label2index = {'Acetaminophen': 0, 'Acetylsalicylic Acid Alone': 1, 'Benzodiazepines': 2, 'Diphenhydramine': 3, 'Lithium': 4, 'Oral Hypoglycemics: Sulfonylureas': 5}\n",
      "index2label = {0: 'Acetaminophen', 1: 'Acetylsalicylic Acid Alone', 2: 'Benzodiazepines', 3: 'Diphenhydramine', 4: 'Lithium', 5: 'Oral Hypoglycemics: Sulfonylureas'}\n"
     ]
    }
   ],
   "source": [
    "# label names to index mapping and reverse mapping\n",
    "label2index = {k: i for i, k in enumerate(np.sort(df_minus4['product'].unique()))}\n",
    "index2label = {label2index[k]: k for k in label2index}\n",
    "print(f'label2index = {label2index}')\n",
    "print(f'index2label = {index2label}')"
   ]
  },
  {
   "cell_type": "code",
   "execution_count": 205,
   "metadata": {
    "scrolled": true
   },
   "outputs": [],
   "source": [
    "### Statistical feature importance (isnt used though in later stages)\n",
    "# feature importance analysis\n",
    "df_minus4_labeled = df_minus4.copy(deep=True)\n",
    "df_minus4_labeled['product'] = df_minus4['product'].replace(label2index)\n"
   ]
  },
  {
   "attachments": {},
   "cell_type": "markdown",
   "metadata": {},
   "source": [
    "### (AshisKB) Data preparation for training and testing"
   ]
  },
  {
   "cell_type": "code",
   "execution_count": 206,
   "metadata": {},
   "outputs": [],
   "source": [
    "# separating label (product) column from the rest of data\n",
    "y = df_minus4_labeled['product'].copy()\n",
    "X = df_minus4_labeled.drop(['product'], axis=1)\n",
    "\n"
   ]
  },
  {
   "cell_type": "code",
   "execution_count": 207,
   "metadata": {},
   "outputs": [
    {
     "name": "stdout",
     "output_type": "stream",
     "text": [
      "X.shape = (185758, 133),\n",
      "y.shape = (185758,)\n"
     ]
    }
   ],
   "source": [
    "print(f'X.shape = {X.shape},\\ny.shape = {y.shape}')"
   ]
  },
  {
   "cell_type": "code",
   "execution_count": 208,
   "metadata": {},
   "outputs": [
    {
     "data": {
      "text/plain": [
       "2    68536\n",
       "3    51798\n",
       "0    38033\n",
       "1    15268\n",
       "4     9434\n",
       "5     2689\n",
       "Name: product, dtype: int64"
      ]
     },
     "execution_count": 208,
     "metadata": {},
     "output_type": "execute_result"
    }
   ],
   "source": [
    "#class distribution before SMOTE()\n",
    "y.value_counts()"
   ]
  },
  {
   "cell_type": "code",
   "execution_count": 209,
   "metadata": {},
   "outputs": [],
   "source": [
    "\n",
    "#SMOTE = Synthetic Minority Oversampling Technique (SMOTE)\n",
    "X_resampled, y_resampled = SMOTE().fit_resample(X,y)\n"
   ]
  },
  {
   "cell_type": "code",
   "execution_count": 210,
   "metadata": {},
   "outputs": [
    {
     "name": "stdout",
     "output_type": "stream",
     "text": [
      "X_resampled.shape = (411216, 133),\n",
      "y_resampled.shape = (411216,)\n"
     ]
    }
   ],
   "source": [
    "print(f'X_resampled.shape = {X_resampled.shape},\\ny_resampled.shape = {y_resampled.shape}')"
   ]
  },
  {
   "cell_type": "code",
   "execution_count": 211,
   "metadata": {},
   "outputs": [
    {
     "data": {
      "text/plain": [
       "2    68536\n",
       "3    68536\n",
       "1    68536\n",
       "0    68536\n",
       "4    68536\n",
       "5    68536\n",
       "Name: product, dtype: int64"
      ]
     },
     "execution_count": 211,
     "metadata": {},
     "output_type": "execute_result"
    }
   ],
   "source": [
    "#class distribution after SMOTE()\n",
    "y_resampled.value_counts()"
   ]
  },
  {
   "cell_type": "code",
   "execution_count": 212,
   "metadata": {},
   "outputs": [],
   "source": [
    "#Three-way split ratio\n",
    "train_ratio = 0.70\n",
    "val_ratio = 0.15\n",
    "test_ratio = 0.15\n",
    "\n"
   ]
  },
  {
   "cell_type": "code",
   "execution_count": 213,
   "metadata": {},
   "outputs": [],
   "source": [
    "#first split two-way and separate out the test set\n",
    "X_train, X_test, y_train, y_test = train_test_split(X_resampled, y_resampled, test_size=test_ratio, random_state=12345)"
   ]
  },
  {
   "cell_type": "code",
   "execution_count": 214,
   "metadata": {},
   "outputs": [],
   "source": [
    "#Convert dataframes into numpy arrays\n",
    "X_train = X_train.to_numpy()\n",
    "y_train = y_train.to_numpy()\n",
    "X_test = X_test.to_numpy()\n",
    "y_test = y_test.to_numpy()"
   ]
  },
  {
   "cell_type": "code",
   "execution_count": 215,
   "metadata": {},
   "outputs": [
    {
     "name": "stdout",
     "output_type": "stream",
     "text": [
      "X_train.shape = (349533, 133),\n",
      "X_test.shape = (61683, 133)\n"
     ]
    }
   ],
   "source": [
    "print(f'X_train.shape = {X_train.shape},\\nX_test.shape = {X_test.shape}')"
   ]
  },
  {
   "cell_type": "code",
   "execution_count": 234,
   "metadata": {},
   "outputs": [
    {
     "name": "stdout",
     "output_type": "stream",
     "text": [
      "(349533, 133) (349533,) (61683, 133) (61683,)\n"
     ]
    }
   ],
   "source": [
    "## converting the numpy array to tensorflow tensors\n",
    "#X_train = tf.convert_to_tensor(X_train,np.float32)\n",
    "#y_train = tf.convert_to_tensor(y_train,np.int32)\n",
    "#X_test = tf.convert_to_tensor(X_test,np.float32)\n",
    "#y_test = tf.convert_to_tensor(y_test, np.int32)\n",
    "#X_train,y_train,X_test,y_test = map(torch.Tensor, (X_train,y_train,X_test,y_test))\n",
    "print(X_train.shape, y_train.shape, X_test.shape, y_test.shape)\n"
   ]
  },
  {
   "cell_type": "code",
   "execution_count": null,
   "metadata": {},
   "outputs": [],
   "source": []
  },
  {
   "attachments": {},
   "cell_type": "markdown",
   "metadata": {},
   "source": [
    "## (AshisKB) Keras model parameters"
   ]
  },
  {
   "cell_type": "code",
   "execution_count": 235,
   "metadata": {},
   "outputs": [
    {
     "name": "stdout",
     "output_type": "stream",
     "text": [
      "n_layers = 4,\n",
      "unit_factors = [5 9 7 3]\n"
     ]
    }
   ],
   "source": [
    "# Deep NN model parameters\n",
    "#params = {'optimizer': torch.optim.Adam,\n",
    "#          'loss_func': nn.CrossEntropyLoss,\n",
    "#          'learning_rate': .001,\n",
    "#          'lr_reduce': .99,\n",
    "#          'epoch': 5,\n",
    "#          'loss_reduction': 'mean',    # loss function reduction metric\n",
    "#          'batch_size': 4096,\n",
    "#          'model_type': 'classifier',\n",
    "#          'use_gpu': True,\n",
    "#          'plot_loss': True,\n",
    "#          'quant_perc': .97,\n",
    "#          'plot_true_pred': False}\n",
    "#\n",
    "n_layers = 4\n",
    "unit_factors = np.array(get_factors(n_layers=n_layers),dtype=int)\n",
    "dropout_rate = .15\n",
    "print(f'n_layers = {n_layers},\\nunit_factors = {unit_factors}')"
   ]
  },
  {
   "cell_type": "code",
   "execution_count": null,
   "metadata": {},
   "outputs": [],
   "source": [
    "#input_units, output_units, unit_factors, dropout_rate, model_type, actual_units=False):\n",
    "#layers = define_layers(X_train.shape[1], len(label2index), unit_factors, dropout_rate, params['model_type'])"
   ]
  },
  {
   "cell_type": "code",
   "execution_count": 236,
   "metadata": {},
   "outputs": [
    {
     "name": "stdout",
     "output_type": "stream",
     "text": [
      "133 6\n"
     ]
    }
   ],
   "source": [
    "input_dim = X_train[0].shape[0]\n",
    "output_dim = len(index2label)\n",
    "print(input_dim, output_dim)"
   ]
  },
  {
   "cell_type": "code",
   "execution_count": 237,
   "metadata": {},
   "outputs": [
    {
     "name": "stdout",
     "output_type": "stream",
     "text": [
      "[133, 665, 1197, 931, 399, 6]\n"
     ]
    }
   ],
   "source": [
    "hidden_units = [input_dim * factor for factor in unit_factors]\n",
    "units = [input_dim] + hidden_units + [output_dim]\n",
    "units = [i for i in units]\n",
    "print(units)"
   ]
  },
  {
   "cell_type": "code",
   "execution_count": 238,
   "metadata": {},
   "outputs": [],
   "source": [
    "#Define Keras model\n",
    "model = Sequential()\n",
    "model.add(Dense(665, input_shape=(133,), activation='sigmoid'))\n",
    "model.add(BatchNormalization())\n",
    "model.add(Dropout(dropout_rate))\n",
    "\n",
    "model.add(Dense(1197, activation='sigmoid'))\n",
    "model.add(BatchNormalization())\n",
    "model.add(Dropout(dropout_rate))\n",
    "\n",
    "\n",
    "model.add(Dense(931, activation='sigmoid'))\n",
    "model.add(BatchNormalization())\n",
    "model.add(Dropout(dropout_rate))\n",
    "\n",
    "\n",
    "model.add(Dense(399,activation='sigmoid'))\n",
    "model.add(BatchNormalization())\n",
    "model.add(Dropout(dropout_rate))\n",
    "\n",
    "model.add(Dense(6, activation='softmax'))\n",
    "\n"
   ]
  },
  {
   "cell_type": "code",
   "execution_count": 239,
   "metadata": {},
   "outputs": [
    {
     "name": "stdout",
     "output_type": "stream",
     "text": [
      "Model: \"sequential_4\"\n",
      "_________________________________________________________________\n",
      " Layer (type)                Output Shape              Param #   \n",
      "=================================================================\n",
      " dense_20 (Dense)            (None, 665)               89110     \n",
      "                                                                 \n",
      " batch_normalization_16 (Bat  (None, 665)              2660      \n",
      " chNormalization)                                                \n",
      "                                                                 \n",
      " dropout_16 (Dropout)        (None, 665)               0         \n",
      "                                                                 \n",
      " dense_21 (Dense)            (None, 1197)              797202    \n",
      "                                                                 \n",
      " batch_normalization_17 (Bat  (None, 1197)             4788      \n",
      " chNormalization)                                                \n",
      "                                                                 \n",
      " dropout_17 (Dropout)        (None, 1197)              0         \n",
      "                                                                 \n",
      " dense_22 (Dense)            (None, 931)               1115338   \n",
      "                                                                 \n",
      " batch_normalization_18 (Bat  (None, 931)              3724      \n",
      " chNormalization)                                                \n",
      "                                                                 \n",
      " dropout_18 (Dropout)        (None, 931)               0         \n",
      "                                                                 \n",
      " dense_23 (Dense)            (None, 399)               371868    \n",
      "                                                                 \n",
      " batch_normalization_19 (Bat  (None, 399)              1596      \n",
      " chNormalization)                                                \n",
      "                                                                 \n",
      " dropout_19 (Dropout)        (None, 399)               0         \n",
      "                                                                 \n",
      " dense_24 (Dense)            (None, 6)                 2400      \n",
      "                                                                 \n",
      "=================================================================\n",
      "Total params: 2,388,686\n",
      "Trainable params: 2,382,302\n",
      "Non-trainable params: 6,384\n",
      "_________________________________________________________________\n"
     ]
    }
   ],
   "source": [
    "model.summary()"
   ]
  },
  {
   "cell_type": "code",
   "execution_count": 244,
   "metadata": {},
   "outputs": [],
   "source": [
    "#defining the hyper-parameters\n",
    "learning_rate = 1e-3\n",
    "batch_size = 64\n",
    "epoch = 10\n",
    "#f you want to use \"categorical_crossentropy\", the labels should be one-hot-encoded. In our case, it was not.\n",
    "# When your labels are given as an integer, changing to \"sparse_categorical_crossentropy\" is required. \n",
    "# The advantage of using \"categorical_crossentropy\" is that it can give you class probabilities, which might be useful in some cases.\n",
    "loss_function = \"sparse_categorical_crossentropy\"\n",
    "\n",
    "#define optimizer \n",
    "#opt = optim.SGD(model.parameters(), lr=0.2,momentum=0.9)\n",
    "opt = Adam(learning_rate=learning_rate, beta_1=0.9, beta_2=0.999, epsilon=1e-8) "
   ]
  },
  {
   "cell_type": "code",
   "execution_count": 245,
   "metadata": {},
   "outputs": [],
   "source": [
    "#compile Keras model with the parameter settings\n",
    "model.compile(loss=loss_function,optimizer=opt,metrics=[\"accuracy\"])"
   ]
  },
  {
   "cell_type": "code",
   "execution_count": 246,
   "metadata": {},
   "outputs": [
    {
     "data": {
      "text/plain": [
       "((349533, 133), (349533,))"
      ]
     },
     "execution_count": 246,
     "metadata": {},
     "output_type": "execute_result"
    }
   ],
   "source": [
    "X_train.shape, y_train.shape"
   ]
  },
  {
   "cell_type": "code",
   "execution_count": 247,
   "metadata": {},
   "outputs": [
    {
     "name": "stdout",
     "output_type": "stream",
     "text": [
      "Epoch 1/10\n"
     ]
    },
    {
     "name": "stderr",
     "output_type": "stream",
     "text": [
      "2023-02-02 21:08:56.673830: I tensorflow/compiler/xla/service/service.cc:173] XLA service 0x5585469912c0 initialized for platform CUDA (this does not guarantee that XLA will be used). Devices:\n",
      "2023-02-02 21:08:56.673862: I tensorflow/compiler/xla/service/service.cc:181]   StreamExecutor device (0): NVIDIA GeForce GTX 1080, Compute Capability 6.1\n",
      "2023-02-02 21:08:56.680376: I tensorflow/compiler/mlir/tensorflow/utils/dump_mlir_util.cc:268] disabling MLIR crash reproducer, set env var `MLIR_CRASH_REPRODUCER_DIRECTORY` to enable.\n",
      "2023-02-02 21:08:56.763660: I tensorflow/tsl/platform/default/subprocess.cc:304] Start cannot spawn child process: No such file or directory\n",
      "2023-02-02 21:08:56.834588: I tensorflow/compiler/jit/xla_compilation_cache.cc:477] Compiled cluster using XLA!  This line is logged at most once for the lifetime of the process.\n"
     ]
    },
    {
     "name": "stdout",
     "output_type": "stream",
     "text": [
      "5462/5462 [==============================] - 30s 5ms/step - loss: 0.5363 - accuracy: 0.8055\n",
      "Epoch 2/10\n",
      "5462/5462 [==============================] - 27s 5ms/step - loss: 0.4621 - accuracy: 0.8266\n",
      "Epoch 3/10\n",
      "5462/5462 [==============================] - 27s 5ms/step - loss: 0.4397 - accuracy: 0.8330\n",
      "Epoch 4/10\n",
      "5462/5462 [==============================] - 27s 5ms/step - loss: 0.4277 - accuracy: 0.8354\n",
      "Epoch 5/10\n",
      "5462/5462 [==============================] - 26s 5ms/step - loss: 0.4208 - accuracy: 0.8386\n",
      "Epoch 6/10\n",
      "5462/5462 [==============================] - 26s 5ms/step - loss: 0.4159 - accuracy: 0.8401\n",
      "Epoch 7/10\n",
      "5462/5462 [==============================] - 26s 5ms/step - loss: 0.4106 - accuracy: 0.8418\n",
      "Epoch 8/10\n",
      "5462/5462 [==============================] - 26s 5ms/step - loss: 0.4065 - accuracy: 0.8429\n",
      "Epoch 9/10\n",
      "5462/5462 [==============================] - 26s 5ms/step - loss: 0.4031 - accuracy: 0.8443\n",
      "Epoch 10/10\n",
      "5462/5462 [==============================] - 26s 5ms/step - loss: 0.4006 - accuracy: 0.8455\n",
      "Time taken 266.9339208602905\n"
     ]
    }
   ],
   "source": [
    "#Let's train\n",
    "#calculate time of training\n",
    "tic = time.time()\n",
    "log_tr = model.fit(X_train, y_train, epochs=epoch, batch_size=batch_size)\n",
    "toc = time.time()\n",
    "print('Time taken', toc - tic)"
   ]
  },
  {
   "cell_type": "code",
   "execution_count": 258,
   "metadata": {},
   "outputs": [
    {
     "name": "stdout",
     "output_type": "stream",
     "text": [
      "INFO:tensorflow:Assets written to: ./temp/20230202_2121_Keras_FFN_tf/assets\n"
     ]
    }
   ],
   "source": [
    "##Save model (in Tensorflow SaveModel format (tf2))\n",
    "model.save(dataset_root+'/temp/20230202_2121_Keras_FFN_tf')"
   ]
  },
  {
   "cell_type": "code",
   "execution_count": null,
   "metadata": {},
   "outputs": [],
   "source": [
    "#Load the model back\n",
    "#from tensorflow import keras\n",
    "#modelB = keras.models.load_model('./temp/20230202_2121_Keras_FFN_tf'')"
   ]
  },
  {
   "cell_type": "code",
   "execution_count": 252,
   "metadata": {},
   "outputs": [
    {
     "name": "stdout",
     "output_type": "stream",
     "text": [
      "482/482 [==============================] - 1s 1ms/step\n"
     ]
    }
   ],
   "source": [
    "# evaluate the network\n",
    "pred_probs = model.predict(X_test, batch_size=128)\n",
    "predictions = [x.argmax() for x in pred_probs]\n"
   ]
  },
  {
   "cell_type": "code",
   "execution_count": 255,
   "metadata": {},
   "outputs": [],
   "source": [
    "report = classification_report(y_test, predictions, target_names=[index2label[i]+'{'+str(i)+'}' for i in np.unique(y_train)])"
   ]
  },
  {
   "cell_type": "code",
   "execution_count": 256,
   "metadata": {},
   "outputs": [
    {
     "name": "stdout",
     "output_type": "stream",
     "text": [
      "                                      precision    recall  f1-score   support\n",
      "\n",
      "                    Acetaminophen{0}       0.78      0.84      0.81     10239\n",
      "       Acetylsalicylic Acid Alone{1}       0.84      0.75      0.79     10253\n",
      "                  Benzodiazepines{2}       0.81      0.83      0.82     10297\n",
      "                  Diphenhydramine{3}       0.80      0.77      0.79     10332\n",
      "                          Lithium{4}       0.84      0.89      0.86     10206\n",
      "Oral Hypoglycemics: Sulfonylureas{5}       0.99      0.99      0.99     10356\n",
      "\n",
      "                            accuracy                           0.85     61683\n",
      "                           macro avg       0.85      0.84      0.84     61683\n",
      "                        weighted avg       0.85      0.85      0.84     61683\n",
      "\n"
     ]
    }
   ],
   "source": [
    "print(report)"
   ]
  },
  {
   "cell_type": "code",
   "execution_count": 379,
   "metadata": {},
   "outputs": [],
   "source": [
    "#the end"
   ]
  }
 ],
 "metadata": {
  "kernelspec": {
   "display_name": "Python 3",
   "language": "python",
   "name": "python3"
  },
  "language_info": {
   "codemirror_mode": {
    "name": "ipython",
    "version": 3
   },
   "file_extension": ".py",
   "mimetype": "text/x-python",
   "name": "python",
   "nbconvert_exporter": "python",
   "pygments_lexer": "ipython3",
   "version": "3.10.6"
  },
  "vscode": {
   "interpreter": {
    "hash": "916dbcbb3f70747c44a77c7bcd40155683ae19c65e1c03b4aa3499c5328201f1"
   }
  }
 },
 "nbformat": 4,
 "nbformat_minor": 4
}
