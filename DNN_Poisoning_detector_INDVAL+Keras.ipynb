{
 "cells": [
  {
   "attachments": {},
   "cell_type": "markdown",
   "metadata": {},
   "source": [
    "## INDVAL based feature selection and Keras modeling"
   ]
  },
  {
   "cell_type": "code",
   "execution_count": 158,
   "metadata": {},
   "outputs": [],
   "source": [
    "running_on_ubuntu2204 = True\n",
    "running_on_macos = False\n",
    "running_on_colab = False #not published. Please contact authors for a Google colab version\n",
    "dataset_root = '/home/ashiskb/Documents/data/NPDS-data/'"
   ]
  },
  {
   "attachments": {},
   "cell_type": "markdown",
   "metadata": {},
   "source": [
    "### (AshisKB) Imports & workspace configuration"
   ]
  },
  {
   "cell_type": "code",
   "execution_count": 159,
   "metadata": {},
   "outputs": [],
   "source": [
    "#!pip install --upgrade pip\n",
    "#!pip install -U jupyterlab ipywidgets\n",
    "#!pip3 install tensorflow\n",
    "#!pip install tqdm\n",
    "#!pip3 install -U scikit-learn\n",
    "#!pip install xgboost\n",
    "#!pip install lightgbm\n",
    "#!pip install imblearn\n",
    "#!pip install pyreadstat\n",
    "#!pip install matplotlib pandas numpy\n",
    "#!pip install seaborn\n"
   ]
  },
  {
   "cell_type": "code",
   "execution_count": 160,
   "metadata": {},
   "outputs": [],
   "source": [
    "#!pip freeze > requirements_ubuntu2204_Keras.txt\n",
    "#!pip install -r requirements_macos.txt\n",
    "#!pip freeze > requirements_ubuntu2204.txt"
   ]
  },
  {
   "cell_type": "code",
   "execution_count": 161,
   "metadata": {},
   "outputs": [
    {
     "name": "stdout",
     "output_type": "stream",
     "text": [
      "Thu Feb  9 16:02:18 2023       \n",
      "+-----------------------------------------------------------------------------+\n",
      "| NVIDIA-SMI 515.86.01    Driver Version: 515.86.01    CUDA Version: 11.7     |\n",
      "|-------------------------------+----------------------+----------------------+\n",
      "| GPU  Name        Persistence-M| Bus-Id        Disp.A | Volatile Uncorr. ECC |\n",
      "| Fan  Temp  Perf  Pwr:Usage/Cap|         Memory-Usage | GPU-Util  Compute M. |\n",
      "|                               |                      |               MIG M. |\n",
      "|===============================+======================+======================|\n",
      "|   0  NVIDIA GeForce ...  Off  | 00000000:01:00.0  On |                  N/A |\n",
      "| N/A   49C    P2    39W /  N/A |   7851MiB /  8192MiB |     59%      Default |\n",
      "|                               |                      |                  N/A |\n",
      "+-------------------------------+----------------------+----------------------+\n",
      "                                                                               \n",
      "+-----------------------------------------------------------------------------+\n",
      "| Processes:                                                                  |\n",
      "|  GPU   GI   CI        PID   Type   Process name                  GPU Memory |\n",
      "|        ID   ID                                                   Usage      |\n",
      "|=============================================================================|\n",
      "|    0   N/A  N/A      2151      G   /usr/lib/xorg/Xorg                208MiB |\n",
      "|    0   N/A  N/A      2330    C+G   ...ome-remote-desktop-daemon      104MiB |\n",
      "|    0   N/A  N/A      2366      G   /usr/bin/gnome-shell               73MiB |\n",
      "|    0   N/A  N/A      5609      C   ...ctory/venv-tf2/bin/python     7449MiB |\n",
      "|    0   N/A  N/A     29100      G   ...403150992907205621,131072        9MiB |\n",
      "+-----------------------------------------------------------------------------+\n"
     ]
    }
   ],
   "source": [
    "if running_on_ubuntu2204:\n",
    "    #checking cuda version and cuda support\n",
    "    !nvidia-smi"
   ]
  },
  {
   "cell_type": "code",
   "execution_count": 162,
   "metadata": {},
   "outputs": [],
   "source": [
    "%matplotlib inline\n",
    "import tensorflow as tf\n",
    "from tensorflow.keras.models import Sequential\n",
    "from tensorflow.keras.layers import Dense,BatchNormalization,Dropout,Input\n",
    "from tensorflow.keras.optimizers import SGD,Adam\n",
    "from tensorflow.keras.datasets import mnist\n",
    "from tensorflow.keras import backend as K\n",
    "\n",
    "\n",
    "\n",
    "from sklearn.model_selection import train_test_split\n",
    "from sklearn.preprocessing import OneHotEncoder\n",
    "from sklearn.neighbors import KNeighborsClassifier as KNN\n",
    "from sklearn.tree import DecisionTreeClassifier as DTC\n",
    "from sklearn.ensemble import RandomForestClassifier as RFC\n",
    "from sklearn.ensemble import AdaBoostClassifier as AdaBC\n",
    "from sklearn.linear_model import LogisticRegression as LR\n",
    "from sklearn.naive_bayes import GaussianNB\n",
    "from sklearn.datasets import make_blobs\n",
    "from sklearn.metrics import confusion_matrix\n",
    "from sklearn.metrics import classification_report\n",
    "from xgboost import XGBClassifier as XGBC\n",
    "from lightgbm import LGBMClassifier as LGBC\n",
    "\n",
    "from imblearn.over_sampling import SMOTE, RandomOverSampler\n",
    "\n",
    "from scipy.special import softmax\n",
    "from IPython.core.display import HTML\n",
    "import numpy as np\n",
    "import pandas as pd\n",
    "import os\n",
    "import matplotlib.pyplot as plt\n",
    "import matplotlib.colors\n",
    "import time\n",
    "import joblib\n",
    "from tqdm import tqdm\n",
    "import seaborn as sns\n",
    "import copy\n",
    "\n",
    "    \n"
   ]
  },
  {
   "attachments": {},
   "cell_type": "markdown",
   "metadata": {},
   "source": [
    "### (AshisKB) Utility functions"
   ]
  },
  {
   "cell_type": "code",
   "execution_count": 163,
   "metadata": {},
   "outputs": [],
   "source": [
    "# result: score matrix\n",
    "# confus: confusion matrix\n",
    "# setname: data set name (train or test or validation)\n",
    "# modelname: name of the prediction model\n",
    "# savedir: directory path where the graph will be saved\n",
    "def plot_tables(result, confus, setname, modelname, savedir):\n",
    "    fig, ax = plt.subplots(figsize = (22, 5), ncols = 2)\n",
    "    ax[0] = msd.plot_heatmap(result, annotate = True, fmt = '.3f', xrot = 0, vmax = 1, axobj = ax[0], cmap = 'summer', fig_title = 'Score Matrix')\n",
    "    ax[1] = msd.plot_heatmap(confus, annotate = True, fmt = 'd', xrot = 0, axobj = ax[1], cmap = 'Blues', fig_title = 'Confusion Matrix')\n",
    "    fig.suptitle('Classification result for %s from %s'%(setname, modelname), fontsize = 15, fontweight = 'bold')\n",
    "    fig.tight_layout()\n",
    "    fig.savefig('%s/Classification result for %s from %s.png'%(savedir, setname, modelname), bbox_inches = 'tight')\n",
    "    plt.show()\n",
    "    plt.close()"
   ]
  },
  {
   "cell_type": "code",
   "execution_count": 164,
   "metadata": {},
   "outputs": [],
   "source": [
    "def get_weighted_scores(score, y_test):\n",
    "    _score = score.copy()\n",
    "    counts = pd.Series(y_test).value_counts().sort_index().to_frame().T\n",
    "    _score['weighted_average'] = (_score.drop('accuracy').drop('average', axis=1).values * counts.values / counts.values.sum()).sum(axis=1).tolist()+[_score['average'].loc['accuracy']]\n",
    "    return _score"
   ]
  },
  {
   "cell_type": "code",
   "execution_count": 165,
   "metadata": {},
   "outputs": [],
   "source": [
    "\"\"\"\n",
    "input_units: int, number of units in input layer / number of features (not first hidden layer)\n",
    "output_units: int, number of units in output layer / number of output nodes / number of classes (not last hidden layer)\n",
    "unit_factors: array of ints or floats, multipliers to calculate number of units in each hidden layer from input_units, or actual number of units for each hidden layer\n",
    "dropout_rate: dropout ratio\n",
    "model_type: {'classification', 'regression'}, controls use of softmax on top of output layer\n",
    "actual_units: bool, whether actual units are placed in unit_factors or not\n",
    "\"\"\"\n",
    "def define_layers(input_units, output_units, unit_factors, dropout_rate, model_type, actual_units=False):\n",
    "    if actual_units:\n",
    "        hidden_units = unit_factors.copy()\n",
    "    else:\n",
    "        hidden_units = [input_units * factor for factor in unit_factors]\n",
    "    units = [input_units] + hidden_units + [output_units]\n",
    "    units = [int(i) for i in units]\n",
    "    \n",
    "    layers = []\n",
    "    for i in range(len(unit_factors)):\n",
    "        layers.append(nn.Linear(units[i], units[i + 1]))\n",
    "        layers.append(nn.Sigmoid())\n",
    "        layers.append(nn.BatchNorm1d(units[i + 1]))\n",
    "        layers.append(nn.Dropout(dropout_rate))\n",
    "    layers.append(nn.Linear(units[-2], units[-1]))\n",
    "    if model_type == 'classifier':\n",
    "        layers.append(nn.Softmax(dim=1))\n",
    "    return layers"
   ]
  },
  {
   "cell_type": "code",
   "execution_count": 166,
   "metadata": {},
   "outputs": [],
   "source": [
    "# storing the models and loading them\n",
    "def store_models(models, folder_path):\n",
    "    if not os.path.exists(folder_path): os.makedirs(folder_path)\n",
    "    for modelname in models:\n",
    "        print('storing models... %s_model...'%modelname, end='')\n",
    "        if 'pytorch' in modelname.lower():\n",
    "            torch.save(models[modelname].model.state_dict(), folder_path + '/%s_model.pt'%modelname)\n",
    "        else:\n",
    "            with open(folder_path + '/%s_model.pickle'%modelname, 'wb') as f:\n",
    "                joblib.dump(models[modelname], f)\n",
    "        print('   ...storing completed !!')\n",
    "    \n",
    "def load_models(models, folder_path):\n",
    "    for modelname in models:\n",
    "        print('\\rloading models... %s_model...'%modelname, end='')\n",
    "        if 'pytorch' in modelname.lower():\n",
    "            models[modelname].model.load_state_dict(torch.load(folder_path + '/%s_model.pt'%modelname))\n",
    "        else:\n",
    "            with open(folder_path + '%s_model.pickle'%modelname, 'rb') as f:\n",
    "                models[modelname] = joblib.load(f)\n",
    "        print('   ...loading completed !!')\n",
    "    return models"
   ]
  },
  {
   "cell_type": "code",
   "execution_count": 167,
   "metadata": {},
   "outputs": [],
   "source": [
    "\"\"\"\n",
    "n_layers: number of hidden layers\n",
    "offset_factor: makes assymetric structure (base - offset)\n",
    "max_factor: multiplier for mid layer (largest layer)\n",
    "base_factor: multiplier for first layer\n",
    "\"\"\"\n",
    "def get_factors(n_layers, base_factor=5, max_factor=10, offset_factor=2):\n",
    "    base_factor = max_factor - base_factor\n",
    "    return [max_factor - abs(x) for x in np.linspace(-base_factor, base_factor + offset_factor, n_layers) if max_factor - abs(x) > 0]"
   ]
  },
  {
   "cell_type": "code",
   "execution_count": 168,
   "metadata": {},
   "outputs": [],
   "source": [
    "def prepare_row(age, product, outcome, therapy, effects, zeros, val2index, columns):\n",
    "    # adding the data to stack\n",
    "    _zeros = {key: zeros[key].copy() for key in zeros}\n",
    "    # stacking clinical effect\n",
    "    for k in effects: _zeros['Clinical_Effect'][val2index['Clinical_Effect'][k]] = 1\n",
    "    for k in therapy: _zeros['Therapy'][val2index['Therapy'][k]] = 1\n",
    "    # stacking medical outcome\n",
    "    _zeros['Medical_Outcome'][val2index['Medical_Outcome'][outcome]] = 1\n",
    "    # combining\n",
    "    row = np.concatenate([[age]] + [_zeros[col] for col in columns] + [[product]], axis=0)\n",
    "    return row"
   ]
  },
  {
   "cell_type": "code",
   "execution_count": 169,
   "metadata": {},
   "outputs": [],
   "source": [
    "def prepare_data(_rawdata, ):\n",
    "    \n",
    "    rawdata = _rawdata.copy()\n",
    "    # filling nan values\n",
    "    for c in rawdata.columns:\n",
    "        rawdata[c] = rawdata[c].fillna('NAN').replace(' ', '').replace('', 'NAN')\n",
    "    \n",
    "    # extrcting data from rows\n",
    "    columns = ['Clinical_Effect', 'Therapy', 'Medical_Outcome']\n",
    "    val2index = {col: {k: i for i, k in enumerate(np.sort(rawdata[col].unique()))} for col in columns}\n",
    "    zeros = {col: np.zeros(rawdata[col].unique().shape[0]) for col in columns}\n",
    "\n",
    "    # initializing counts\n",
    "    product = rawdata['Product'].iloc[0]\n",
    "    age = rawdata['Age'].iloc[0]\n",
    "    effects = [rawdata['Clinical_Effect'].iloc[0]]\n",
    "    outcome = rawdata['Medical_Outcome'].iloc[0]\n",
    "    therapy = [rawdata['Therapy'].iloc[0]]\n",
    "    root_index = [0]\n",
    "    data_stack = []\n",
    "    for i in tqdm(range(1, rawdata.shape[0])):\n",
    "        if rawdata['Product'].iloc[i] != 'NAN':\n",
    "            row = prepare_row(age, product, outcome, therapy, effects, zeros, val2index, columns)\n",
    "            data_stack.append(row)\n",
    "            # initializing again\n",
    "            product = rawdata['Product'].iloc[i]\n",
    "            age = rawdata['Age'].iloc[i]\n",
    "            effects = [rawdata['Clinical_Effect'].iloc[i]]\n",
    "            outcome = rawdata['Medical_Outcome'].iloc[i]\n",
    "            therapy = [rawdata['Therapy'].iloc[i]]\n",
    "            root_index.append(i)\n",
    "        else:\n",
    "            # appending effects\n",
    "            effects.append(rawdata['Clinical_Effect'].iloc[i])\n",
    "            therapy.append(rawdata['Therapy'].iloc[i])\n",
    "    row = prepare_row(age, product, outcome, therapy, effects, zeros, val2index, columns)\n",
    "    data_stack.append(row)\n",
    "    \n",
    "    cols = ['%s: %s'%(col, k) for col in columns for k in pd.Series(val2index[col]).to_frame(col).reset_index(drop=False).set_index(col).sort_index()['index'].to_list()]\n",
    "    return pd.DataFrame(np.array(data_stack), columns=['Age'] + cols + ['Product']), root_index"
   ]
  },
  {
   "attachments": {},
   "cell_type": "markdown",
   "metadata": {},
   "source": [
    "### (AshisKB) Read the conglomerated dataset"
   ]
  },
  {
   "cell_type": "code",
   "execution_count": 202,
   "metadata": {},
   "outputs": [],
   "source": [
    "df=pd.read_spss(dataset_root+\"good.sav\")"
   ]
  },
  {
   "cell_type": "code",
   "execution_count": 203,
   "metadata": {},
   "outputs": [
    {
     "data": {
      "text/html": [
       "<div>\n",
       "<style scoped>\n",
       "    .dataframe tbody tr th:only-of-type {\n",
       "        vertical-align: middle;\n",
       "    }\n",
       "\n",
       "    .dataframe tbody tr th {\n",
       "        vertical-align: top;\n",
       "    }\n",
       "\n",
       "    .dataframe thead th {\n",
       "        text-align: right;\n",
       "    }\n",
       "</style>\n",
       "<table border=\"1\" class=\"dataframe\">\n",
       "  <thead>\n",
       "    <tr style=\"text-align: right;\">\n",
       "      <th></th>\n",
       "      <th>ADRtotreatment</th>\n",
       "      <th>ASTALTgt1000</th>\n",
       "      <th>ASTALTgt100lt1000</th>\n",
       "      <th>AbdominalPain</th>\n",
       "      <th>Acidosis</th>\n",
       "      <th>Agitation</th>\n",
       "      <th>Alkalosis</th>\n",
       "      <th>Aniongapincreased</th>\n",
       "      <th>Anorexia</th>\n",
       "      <th>Asystole</th>\n",
       "      <th>...</th>\n",
       "      <th>Xrayfindings</th>\n",
       "      <th>Age</th>\n",
       "      <th>reason__Intentional</th>\n",
       "      <th>reason__Other</th>\n",
       "      <th>reason__Unintentional</th>\n",
       "      <th>Medical_Outcome__Majoreffect</th>\n",
       "      <th>Medical_Outcome__Minoreffect</th>\n",
       "      <th>Medical_Outcome__Moderateeffect</th>\n",
       "      <th>product</th>\n",
       "      <th>gender__Male</th>\n",
       "    </tr>\n",
       "  </thead>\n",
       "  <tbody>\n",
       "    <tr>\n",
       "      <th>0</th>\n",
       "      <td>0.0</td>\n",
       "      <td>0.0</td>\n",
       "      <td>0.0</td>\n",
       "      <td>0.0</td>\n",
       "      <td>0.0</td>\n",
       "      <td>0.0</td>\n",
       "      <td>0.0</td>\n",
       "      <td>0.0</td>\n",
       "      <td>0.0</td>\n",
       "      <td>0.0</td>\n",
       "      <td>...</td>\n",
       "      <td>0.0</td>\n",
       "      <td>69.0</td>\n",
       "      <td>1.0</td>\n",
       "      <td>0.0</td>\n",
       "      <td>0.0</td>\n",
       "      <td>0.0</td>\n",
       "      <td>0.0</td>\n",
       "      <td>1.0</td>\n",
       "      <td>Benzodiazepines</td>\n",
       "      <td>0.0</td>\n",
       "    </tr>\n",
       "    <tr>\n",
       "      <th>1</th>\n",
       "      <td>0.0</td>\n",
       "      <td>0.0</td>\n",
       "      <td>0.0</td>\n",
       "      <td>0.0</td>\n",
       "      <td>0.0</td>\n",
       "      <td>0.0</td>\n",
       "      <td>0.0</td>\n",
       "      <td>0.0</td>\n",
       "      <td>0.0</td>\n",
       "      <td>0.0</td>\n",
       "      <td>...</td>\n",
       "      <td>0.0</td>\n",
       "      <td>16.0</td>\n",
       "      <td>1.0</td>\n",
       "      <td>0.0</td>\n",
       "      <td>0.0</td>\n",
       "      <td>0.0</td>\n",
       "      <td>0.0</td>\n",
       "      <td>1.0</td>\n",
       "      <td>Diphenhydramine</td>\n",
       "      <td>1.0</td>\n",
       "    </tr>\n",
       "    <tr>\n",
       "      <th>2</th>\n",
       "      <td>0.0</td>\n",
       "      <td>0.0</td>\n",
       "      <td>0.0</td>\n",
       "      <td>0.0</td>\n",
       "      <td>0.0</td>\n",
       "      <td>1.0</td>\n",
       "      <td>0.0</td>\n",
       "      <td>0.0</td>\n",
       "      <td>0.0</td>\n",
       "      <td>0.0</td>\n",
       "      <td>...</td>\n",
       "      <td>0.0</td>\n",
       "      <td>17.0</td>\n",
       "      <td>1.0</td>\n",
       "      <td>0.0</td>\n",
       "      <td>0.0</td>\n",
       "      <td>0.0</td>\n",
       "      <td>1.0</td>\n",
       "      <td>0.0</td>\n",
       "      <td>Diphenhydramine</td>\n",
       "      <td>0.0</td>\n",
       "    </tr>\n",
       "    <tr>\n",
       "      <th>3</th>\n",
       "      <td>0.0</td>\n",
       "      <td>0.0</td>\n",
       "      <td>0.0</td>\n",
       "      <td>0.0</td>\n",
       "      <td>0.0</td>\n",
       "      <td>0.0</td>\n",
       "      <td>0.0</td>\n",
       "      <td>0.0</td>\n",
       "      <td>0.0</td>\n",
       "      <td>0.0</td>\n",
       "      <td>...</td>\n",
       "      <td>0.0</td>\n",
       "      <td>32.0</td>\n",
       "      <td>1.0</td>\n",
       "      <td>0.0</td>\n",
       "      <td>0.0</td>\n",
       "      <td>0.0</td>\n",
       "      <td>0.0</td>\n",
       "      <td>1.0</td>\n",
       "      <td>Diphenhydramine</td>\n",
       "      <td>1.0</td>\n",
       "    </tr>\n",
       "    <tr>\n",
       "      <th>4</th>\n",
       "      <td>0.0</td>\n",
       "      <td>0.0</td>\n",
       "      <td>0.0</td>\n",
       "      <td>0.0</td>\n",
       "      <td>1.0</td>\n",
       "      <td>0.0</td>\n",
       "      <td>0.0</td>\n",
       "      <td>0.0</td>\n",
       "      <td>0.0</td>\n",
       "      <td>0.0</td>\n",
       "      <td>...</td>\n",
       "      <td>0.0</td>\n",
       "      <td>25.0</td>\n",
       "      <td>1.0</td>\n",
       "      <td>0.0</td>\n",
       "      <td>0.0</td>\n",
       "      <td>1.0</td>\n",
       "      <td>0.0</td>\n",
       "      <td>0.0</td>\n",
       "      <td>Bupropion</td>\n",
       "      <td>0.0</td>\n",
       "    </tr>\n",
       "  </tbody>\n",
       "</table>\n",
       "<p>5 rows × 134 columns</p>\n",
       "</div>"
      ],
      "text/plain": [
       "   ADRtotreatment  ASTALTgt1000  ASTALTgt100lt1000  AbdominalPain  Acidosis  \\\n",
       "0             0.0           0.0                0.0            0.0       0.0   \n",
       "1             0.0           0.0                0.0            0.0       0.0   \n",
       "2             0.0           0.0                0.0            0.0       0.0   \n",
       "3             0.0           0.0                0.0            0.0       0.0   \n",
       "4             0.0           0.0                0.0            0.0       1.0   \n",
       "\n",
       "   Agitation  Alkalosis  Aniongapincreased  Anorexia  Asystole  ...  \\\n",
       "0        0.0        0.0                0.0       0.0       0.0  ...   \n",
       "1        0.0        0.0                0.0       0.0       0.0  ...   \n",
       "2        1.0        0.0                0.0       0.0       0.0  ...   \n",
       "3        0.0        0.0                0.0       0.0       0.0  ...   \n",
       "4        0.0        0.0                0.0       0.0       0.0  ...   \n",
       "\n",
       "   Xrayfindings   Age  reason__Intentional  reason__Other  \\\n",
       "0           0.0  69.0                  1.0            0.0   \n",
       "1           0.0  16.0                  1.0            0.0   \n",
       "2           0.0  17.0                  1.0            0.0   \n",
       "3           0.0  32.0                  1.0            0.0   \n",
       "4           0.0  25.0                  1.0            0.0   \n",
       "\n",
       "   reason__Unintentional  Medical_Outcome__Majoreffect  \\\n",
       "0                    0.0                           0.0   \n",
       "1                    0.0                           0.0   \n",
       "2                    0.0                           0.0   \n",
       "3                    0.0                           0.0   \n",
       "4                    0.0                           1.0   \n",
       "\n",
       "   Medical_Outcome__Minoreffect  Medical_Outcome__Moderateeffect  \\\n",
       "0                           0.0                              1.0   \n",
       "1                           0.0                              1.0   \n",
       "2                           1.0                              0.0   \n",
       "3                           0.0                              1.0   \n",
       "4                           0.0                              0.0   \n",
       "\n",
       "           product  gender__Male  \n",
       "0  Benzodiazepines           0.0  \n",
       "1  Diphenhydramine           1.0  \n",
       "2  Diphenhydramine           0.0  \n",
       "3  Diphenhydramine           1.0  \n",
       "4        Bupropion           0.0  \n",
       "\n",
       "[5 rows x 134 columns]"
      ]
     },
     "execution_count": 203,
     "metadata": {},
     "output_type": "execute_result"
    }
   ],
   "source": [
    "df.head()"
   ]
  },
  {
   "cell_type": "code",
   "execution_count": 204,
   "metadata": {},
   "outputs": [],
   "source": [
    "df.to_csv(dataset_root+'good.csv',index=False)"
   ]
  },
  {
   "cell_type": "code",
   "execution_count": 173,
   "metadata": {},
   "outputs": [
    {
     "name": "stdout",
     "output_type": "stream",
     "text": [
      "Num of samples = 206027, \n",
      "num of variables = 134\n"
     ]
    }
   ],
   "source": [
    "#shape of the dataset\n",
    "print(f'Num of samples = {df.shape[0]}, \\nnum of variables = {df.shape[1]}')"
   ]
  },
  {
   "cell_type": "code",
   "execution_count": 174,
   "metadata": {},
   "outputs": [
    {
     "name": "stdout",
     "output_type": "stream",
     "text": [
      "List of 134 variable names = ['ADRtotreatment', 'ASTALTgt1000', 'ASTALTgt100lt1000', 'AbdominalPain', 'Acidosis', 'Agitation', 'Alkalosis', 'Aniongapincreased', 'Anorexia', 'Asystole', 'Ataxia', 'Bilirubinincreased', 'Bleedingother', 'BlistersBullae', 'Bloodperrectumother', 'Blurredvision', 'Bradycardia', 'Bronchospasm', 'Burns', 'Burnssuperficial', 'Burns23degree', 'CPKelevated', 'CVA', 'Cardiacarrest', 'Cellulitis', 'Chestpaininclnoncardiac', 'Coagulopathyother', 'Coma', 'Conductiondisturbance', 'Confusion', 'Constipation', 'Cornealabrasion', 'Creatinineincreased', 'Cyanosis', 'Cytopenia', 'DIC', 'Deafness', 'Dehydration', 'DermalIrritationpain', 'Diaphoresis', 'Diarrhea', 'Dizzinessvertigo', 'Drowsinesslethargy', 'Dysphagia', 'Dyspnea', 'DysrhythmiaotherNOS', 'ECGchangeotherNOS', 'EPSdystonia', 'Ecchymosis', 'Edema', 'Electrolyteabnormality', 'Erythemaflushed', 'Esophagealinjury', 'Esophagealstricture', 'Excesssecretions', 'Fasciculations', 'Fecalincontinence', 'Fetaldeath', 'Feverhyperthermia', 'Gastricburns', 'Hallucinationsdelusions', 'Hematemesis', 'Hematuria', 'Hemomyoglobinuria', 'Hemolysis', 'Hiveswelts', 'Hyperglycemia', 'Hypertension', 'Hyperventilationtachypnea', 'Hypoglycemia', 'Hypotension', 'Hypothermia', 'Ileusnobowelsounds', 'Intracranialbleed', 'LFTabnormalityother', 'Lacrimation', 'Melena', 'Miosis', 'MultipleChemicalSensitivities', 'Musclerigidity', 'Muscleweakness', 'Mydriasis', 'Nausea', 'Necrosis', 'Numbness', 'Nystagmus', 'Oliguriaanuria', 'Oralburnsincllips', 'Oropharyngealedema', 'Osmolalgapincreased', 'OtherMiscellaneous', 'Oxalatecrystalsurine', 'PTINRprolonged', 'Pallor', 'Paralysis', 'Peripheralneuropathy', 'Photophobia', 'Pneumonitis', 'Polyuria', 'Pruritus', 'Pulmonaryedema', 'Puncturewoundsting', 'Pupilsnonreactive', 'Rash', 'Redeyeconjunctivitis', 'Renalfailure', 'Respiratoryarrest', 'Respiratorydepression', 'Rhabdomyolysis', 'Seizuresingle', 'Seizuresmultidiscrete', 'Seizuresstatus', 'Slurredspeech', 'Syncope', 'Tachycardia', 'Throatirritation', 'Tinnitus', 'Tremor', 'Urinaryincontinence', 'Urinaryretention', 'Urinecolorchange', 'VtachycardiaVfibrillation', 'Visualdefect', 'Vomiting', 'Xrayfindings', 'Age', 'reason__Intentional', 'reason__Other', 'reason__Unintentional', 'Medical_Outcome__Majoreffect', 'Medical_Outcome__Minoreffect', 'Medical_Outcome__Moderateeffect', 'product', 'gender__Male']\n"
     ]
    }
   ],
   "source": [
    "#list all column names~\n",
    "print(f'List of {df.shape[1]} variable names = {list(df.columns)}')"
   ]
  },
  {
   "cell_type": "code",
   "execution_count": 175,
   "metadata": {},
   "outputs": [
    {
     "data": {
      "image/png": "[encoded data removed]",
      "text/plain": [
       "<Figure size 640x480 with 1 Axes>"
      ]
     },
     "metadata": {},
     "output_type": "display_data"
    }
   ],
   "source": [
    "#target variable/column = 'product'\n",
    "\n",
    "sns.countplot(y = 'product', data=df, order=df['product'].value_counts().index).set(title='Class distribution plot')\n",
    "plt.savefig('figures/class_distribution_before_del_classes.svg')"
   ]
  },
  {
   "cell_type": "code",
   "execution_count": 176,
   "metadata": {},
   "outputs": [
    {
     "data": {
      "text/plain": [
       "Benzodiazepines                      68536\n",
       "Diphenhydramine                      51798\n",
       "Acetaminophen                        38033\n",
       "Acetylsalicylic Acid Alone           15268\n",
       "Bupropion                            12328\n",
       "Lithium                               9434\n",
       "Calcium Antagonist, Alone             2945\n",
       "Methadone                             2791\n",
       "Oral Hypoglycemics: Sulfonylureas     2689\n",
       "Oral Hypoglycemics: Biguanides        2205\n",
       "Name: product, dtype: int64"
      ]
     },
     "execution_count": 176,
     "metadata": {},
     "output_type": "execute_result"
    }
   ],
   "source": [
    "df['product'].value_counts()"
   ]
  },
  {
   "cell_type": "code",
   "execution_count": 177,
   "metadata": {},
   "outputs": [],
   "source": [
    "# removing products to reduce number of target class\n",
    "del_classes = ['Methadone', 'Oral Hypoglycemics: Biguanides','Bupropion','Calcium Antagonist, Alone']\n",
    "del_columns = ['Age'] #deleting non binary features for the INDVAL study\n",
    "# del_classes = []\n",
    "\n",
    "df_minus5 = df.set_index('product').loc[[i for i in df['product'].unique() if i not in del_classes]].reset_index(drop=False)\n",
    "df_minus5.drop(del_columns, axis=1,inplace=True)\n"
   ]
  },
  {
   "cell_type": "code",
   "execution_count": 178,
   "metadata": {},
   "outputs": [
    {
     "data": {
      "text/html": [
       "<div>\n",
       "<style scoped>\n",
       "    .dataframe tbody tr th:only-of-type {\n",
       "        vertical-align: middle;\n",
       "    }\n",
       "\n",
       "    .dataframe tbody tr th {\n",
       "        vertical-align: top;\n",
       "    }\n",
       "\n",
       "    .dataframe thead th {\n",
       "        text-align: right;\n",
       "    }\n",
       "</style>\n",
       "<table border=\"1\" class=\"dataframe\">\n",
       "  <thead>\n",
       "    <tr style=\"text-align: right;\">\n",
       "      <th></th>\n",
       "      <th>product</th>\n",
       "      <th>ADRtotreatment</th>\n",
       "      <th>ASTALTgt1000</th>\n",
       "      <th>ASTALTgt100lt1000</th>\n",
       "      <th>AbdominalPain</th>\n",
       "      <th>Acidosis</th>\n",
       "      <th>Agitation</th>\n",
       "      <th>Alkalosis</th>\n",
       "      <th>Aniongapincreased</th>\n",
       "      <th>Anorexia</th>\n",
       "      <th>...</th>\n",
       "      <th>Visualdefect</th>\n",
       "      <th>Vomiting</th>\n",
       "      <th>Xrayfindings</th>\n",
       "      <th>reason__Intentional</th>\n",
       "      <th>reason__Other</th>\n",
       "      <th>reason__Unintentional</th>\n",
       "      <th>Medical_Outcome__Majoreffect</th>\n",
       "      <th>Medical_Outcome__Minoreffect</th>\n",
       "      <th>Medical_Outcome__Moderateeffect</th>\n",
       "      <th>gender__Male</th>\n",
       "    </tr>\n",
       "  </thead>\n",
       "  <tbody>\n",
       "    <tr>\n",
       "      <th>0</th>\n",
       "      <td>Benzodiazepines</td>\n",
       "      <td>0.0</td>\n",
       "      <td>0.0</td>\n",
       "      <td>0.0</td>\n",
       "      <td>0.0</td>\n",
       "      <td>0.0</td>\n",
       "      <td>0.0</td>\n",
       "      <td>0.0</td>\n",
       "      <td>0.0</td>\n",
       "      <td>0.0</td>\n",
       "      <td>...</td>\n",
       "      <td>0.0</td>\n",
       "      <td>0.0</td>\n",
       "      <td>0.0</td>\n",
       "      <td>1.0</td>\n",
       "      <td>0.0</td>\n",
       "      <td>0.0</td>\n",
       "      <td>0.0</td>\n",
       "      <td>0.0</td>\n",
       "      <td>1.0</td>\n",
       "      <td>0.0</td>\n",
       "    </tr>\n",
       "    <tr>\n",
       "      <th>1</th>\n",
       "      <td>Benzodiazepines</td>\n",
       "      <td>0.0</td>\n",
       "      <td>0.0</td>\n",
       "      <td>0.0</td>\n",
       "      <td>0.0</td>\n",
       "      <td>0.0</td>\n",
       "      <td>0.0</td>\n",
       "      <td>0.0</td>\n",
       "      <td>0.0</td>\n",
       "      <td>0.0</td>\n",
       "      <td>...</td>\n",
       "      <td>0.0</td>\n",
       "      <td>0.0</td>\n",
       "      <td>0.0</td>\n",
       "      <td>0.0</td>\n",
       "      <td>1.0</td>\n",
       "      <td>0.0</td>\n",
       "      <td>0.0</td>\n",
       "      <td>1.0</td>\n",
       "      <td>0.0</td>\n",
       "      <td>0.0</td>\n",
       "    </tr>\n",
       "    <tr>\n",
       "      <th>2</th>\n",
       "      <td>Benzodiazepines</td>\n",
       "      <td>0.0</td>\n",
       "      <td>0.0</td>\n",
       "      <td>0.0</td>\n",
       "      <td>0.0</td>\n",
       "      <td>0.0</td>\n",
       "      <td>0.0</td>\n",
       "      <td>0.0</td>\n",
       "      <td>0.0</td>\n",
       "      <td>0.0</td>\n",
       "      <td>...</td>\n",
       "      <td>0.0</td>\n",
       "      <td>0.0</td>\n",
       "      <td>0.0</td>\n",
       "      <td>0.0</td>\n",
       "      <td>0.0</td>\n",
       "      <td>1.0</td>\n",
       "      <td>0.0</td>\n",
       "      <td>0.0</td>\n",
       "      <td>1.0</td>\n",
       "      <td>0.0</td>\n",
       "    </tr>\n",
       "    <tr>\n",
       "      <th>3</th>\n",
       "      <td>Benzodiazepines</td>\n",
       "      <td>0.0</td>\n",
       "      <td>0.0</td>\n",
       "      <td>0.0</td>\n",
       "      <td>0.0</td>\n",
       "      <td>0.0</td>\n",
       "      <td>0.0</td>\n",
       "      <td>0.0</td>\n",
       "      <td>0.0</td>\n",
       "      <td>0.0</td>\n",
       "      <td>...</td>\n",
       "      <td>0.0</td>\n",
       "      <td>0.0</td>\n",
       "      <td>0.0</td>\n",
       "      <td>1.0</td>\n",
       "      <td>0.0</td>\n",
       "      <td>0.0</td>\n",
       "      <td>0.0</td>\n",
       "      <td>1.0</td>\n",
       "      <td>0.0</td>\n",
       "      <td>1.0</td>\n",
       "    </tr>\n",
       "    <tr>\n",
       "      <th>4</th>\n",
       "      <td>Benzodiazepines</td>\n",
       "      <td>0.0</td>\n",
       "      <td>0.0</td>\n",
       "      <td>0.0</td>\n",
       "      <td>0.0</td>\n",
       "      <td>0.0</td>\n",
       "      <td>0.0</td>\n",
       "      <td>0.0</td>\n",
       "      <td>0.0</td>\n",
       "      <td>0.0</td>\n",
       "      <td>...</td>\n",
       "      <td>0.0</td>\n",
       "      <td>0.0</td>\n",
       "      <td>0.0</td>\n",
       "      <td>1.0</td>\n",
       "      <td>0.0</td>\n",
       "      <td>0.0</td>\n",
       "      <td>0.0</td>\n",
       "      <td>1.0</td>\n",
       "      <td>0.0</td>\n",
       "      <td>0.0</td>\n",
       "    </tr>\n",
       "  </tbody>\n",
       "</table>\n",
       "<p>5 rows × 133 columns</p>\n",
       "</div>"
      ],
      "text/plain": [
       "           product  ADRtotreatment  ASTALTgt1000  ASTALTgt100lt1000  \\\n",
       "0  Benzodiazepines             0.0           0.0                0.0   \n",
       "1  Benzodiazepines             0.0           0.0                0.0   \n",
       "2  Benzodiazepines             0.0           0.0                0.0   \n",
       "3  Benzodiazepines             0.0           0.0                0.0   \n",
       "4  Benzodiazepines             0.0           0.0                0.0   \n",
       "\n",
       "   AbdominalPain  Acidosis  Agitation  Alkalosis  Aniongapincreased  Anorexia  \\\n",
       "0            0.0       0.0        0.0        0.0                0.0       0.0   \n",
       "1            0.0       0.0        0.0        0.0                0.0       0.0   \n",
       "2            0.0       0.0        0.0        0.0                0.0       0.0   \n",
       "3            0.0       0.0        0.0        0.0                0.0       0.0   \n",
       "4            0.0       0.0        0.0        0.0                0.0       0.0   \n",
       "\n",
       "   ...  Visualdefect  Vomiting  Xrayfindings  reason__Intentional  \\\n",
       "0  ...           0.0       0.0           0.0                  1.0   \n",
       "1  ...           0.0       0.0           0.0                  0.0   \n",
       "2  ...           0.0       0.0           0.0                  0.0   \n",
       "3  ...           0.0       0.0           0.0                  1.0   \n",
       "4  ...           0.0       0.0           0.0                  1.0   \n",
       "\n",
       "   reason__Other  reason__Unintentional  Medical_Outcome__Majoreffect  \\\n",
       "0            0.0                    0.0                           0.0   \n",
       "1            1.0                    0.0                           0.0   \n",
       "2            0.0                    1.0                           0.0   \n",
       "3            0.0                    0.0                           0.0   \n",
       "4            0.0                    0.0                           0.0   \n",
       "\n",
       "   Medical_Outcome__Minoreffect  Medical_Outcome__Moderateeffect  gender__Male  \n",
       "0                           0.0                              1.0           0.0  \n",
       "1                           1.0                              0.0           0.0  \n",
       "2                           0.0                              1.0           0.0  \n",
       "3                           1.0                              0.0           1.0  \n",
       "4                           1.0                              0.0           0.0  \n",
       "\n",
       "[5 rows x 133 columns]"
      ]
     },
     "execution_count": 178,
     "metadata": {},
     "output_type": "execute_result"
    }
   ],
   "source": [
    "df_minus5.head()"
   ]
  },
  {
   "cell_type": "code",
   "execution_count": 179,
   "metadata": {},
   "outputs": [
    {
     "name": "stdout",
     "output_type": "stream",
     "text": [
      "Num of samples = 185758, \n",
      "num of variables = 133\n"
     ]
    }
   ],
   "source": [
    "#shape of the dataset\n",
    "print(f'Num of samples = {df_minus5.shape[0]}, \\nnum of variables = {df_minus5.shape[1]}')"
   ]
  },
  {
   "cell_type": "code",
   "execution_count": 180,
   "metadata": {},
   "outputs": [
    {
     "data": {
      "image/png": "[encoded data removed]",
      "text/plain": [
       "<Figure size 640x480 with 1 Axes>"
      ]
     },
     "metadata": {},
     "output_type": "display_data"
    }
   ],
   "source": [
    "#target variable/column = 'product'\n",
    "\n",
    "sns.countplot(y = 'product', data=df_minus5, order=df_minus5['product'].value_counts().index).set(title='Class distribution plot')\n",
    "plt.savefig('figures/class_distribution_after_del_classes.svg')"
   ]
  },
  {
   "cell_type": "code",
   "execution_count": 181,
   "metadata": {},
   "outputs": [
    {
     "data": {
      "text/plain": [
       "Benzodiazepines                      68536\n",
       "Diphenhydramine                      51798\n",
       "Acetaminophen                        38033\n",
       "Acetylsalicylic Acid Alone           15268\n",
       "Lithium                               9434\n",
       "Oral Hypoglycemics: Sulfonylureas     2689\n",
       "Name: product, dtype: int64"
      ]
     },
     "execution_count": 181,
     "metadata": {},
     "output_type": "execute_result"
    }
   ],
   "source": [
    "df_minus5['product'].value_counts()"
   ]
  },
  {
   "cell_type": "code",
   "execution_count": 182,
   "metadata": {},
   "outputs": [],
   "source": [
    "#display(HTML(\"<style>.container { width:100% !important; }</style>\"))\n",
    "#pd.set_option('display.max_columns', None)"
   ]
  },
  {
   "cell_type": "code",
   "execution_count": 183,
   "metadata": {},
   "outputs": [],
   "source": [
    "#rawdata = pd.read_spss('final.csv.for abdullah.sav').replace('', np.nan).drop('productnew', axis=1)\n",
    "#rawdata['Medical_Outcome'].iloc[0] = 'Minor effect'\n",
    "#rawdata['Therapy'].iloc[0] = 'Fluids, IV'\n",
    "#rawdata"
   ]
  },
  {
   "cell_type": "code",
   "execution_count": 184,
   "metadata": {},
   "outputs": [],
   "source": [
    "# total products found\n",
    "#rawdata['Product'].dropna().shape"
   ]
  },
  {
   "cell_type": "code",
   "execution_count": 185,
   "metadata": {
    "scrolled": true
   },
   "outputs": [],
   "source": [
    "### Process data to create one hot table for categorical features\n",
    "#newdata, raw_index = prepare_data(rawdata)\n",
    "#for c in newdata.columns:\n",
    "#    if c == 'Age': newdata[c] = newdata[c].values.astype(float)\n",
    "#    elif c == 'Product': pass\n",
    "#    else: newdata[c] = newdata[c].values.astype(float).astype(int)\n",
    "#\n",
    "#newdata.to_pickle('raw_to_processed_data.pickle')"
   ]
  },
  {
   "attachments": {},
   "cell_type": "markdown",
   "metadata": {},
   "source": [
    "### (AshisKB) Prepare training data set 'data'"
   ]
  },
  {
   "cell_type": "code",
   "execution_count": 186,
   "metadata": {},
   "outputs": [],
   "source": [
    "\n",
    "#### Verification of data set organizing process# i = 10100\n",
    "# idx1, idx2 = rawdata['Product'].dropna().index[i], rawdata['Product'].dropna().index[i+1]\n",
    "# idx1, idx2"
   ]
  },
  {
   "cell_type": "code",
   "execution_count": 187,
   "metadata": {},
   "outputs": [],
   "source": [
    "# rawdata.iloc[idx1: idx2+1]"
   ]
  },
  {
   "cell_type": "code",
   "execution_count": 188,
   "metadata": {},
   "outputs": [],
   "source": [
    "# newdata.iloc[i][newdata.iloc[i].astype(bool)].to_frame().T"
   ]
  },
  {
   "cell_type": "code",
   "execution_count": 189,
   "metadata": {
    "scrolled": true
   },
   "outputs": [],
   "source": [
    "# # selecting only clinical effect features\n",
    "# effect_cols = [c for c in newdata.columns if 'Clinical_Effect:' in c]\n",
    "# data = pd.DataFrame(newdata[effect_cols].copy())\n",
    "# data.columns = [k.replace('Clinical_Effect: ', '') for k in data.columns]\n",
    "# data['product'] = newdata['product'].copy()\n",
    "# data"
   ]
  },
  {
   "cell_type": "code",
   "execution_count": 190,
   "metadata": {},
   "outputs": [],
   "source": [
    "# available products\n",
    "#data['product'].unique()"
   ]
  },
  {
   "cell_type": "code",
   "execution_count": 191,
   "metadata": {},
   "outputs": [],
   "source": [
    "# removing products to reduce number of target class\n",
    "#del_classes = ['Methadone', 'Oral Hypoglycemics: Biguanides','Bupropion','Calcium Antagonist, Alone']\n",
    "# del_classes = []\n",
    "\n",
    "#data = data.set_index('product').loc[[i for i in data['product'].unique() if i not in del_classes]].reset_index(drop=False)\n",
    "\n",
    "\n",
    "\n"
   ]
  },
  {
   "cell_type": "code",
   "execution_count": 192,
   "metadata": {},
   "outputs": [],
   "source": [
    "#data.head()"
   ]
  },
  {
   "cell_type": "code",
   "execution_count": 193,
   "metadata": {},
   "outputs": [
    {
     "name": "stdout",
     "output_type": "stream",
     "text": [
      "<class 'pandas.core.frame.DataFrame'>\n",
      "RangeIndex: 185758 entries, 0 to 185757\n",
      "Columns: 133 entries, product to gender__Male\n",
      "dtypes: float64(132), object(1)\n",
      "memory usage: 188.5+ MB\n",
      "None\n"
     ]
    },
    {
     "data": {
      "text/plain": [
       "0"
      ]
     },
     "execution_count": 193,
     "metadata": {},
     "output_type": "execute_result"
    }
   ],
   "source": [
    "# checking nan values if any\n",
    "print(df_minus5.info())\n",
    "df_minus5.isnull().sum().sum()"
   ]
  },
  {
   "cell_type": "code",
   "execution_count": 194,
   "metadata": {},
   "outputs": [],
   "source": [
    "#df_minus4.nunique().unique()"
   ]
  },
  {
   "cell_type": "code",
   "execution_count": 195,
   "metadata": {},
   "outputs": [],
   "source": [
    "# checking number of labels in each class\n",
    "#data['product'].value_counts()"
   ]
  },
  {
   "cell_type": "code",
   "execution_count": null,
   "metadata": {},
   "outputs": [],
   "source": []
  },
  {
   "cell_type": "code",
   "execution_count": 196,
   "metadata": {},
   "outputs": [
    {
     "data": {
      "image/png": "[encoded data removed]",
      "text/plain": [
       "<Figure size 3000x500 with 1 Axes>"
      ]
     },
     "metadata": {},
     "output_type": "display_data"
    }
   ],
   "source": [
    "# # sample count (y-axis) for various number of clinical features (x axis)\n",
    "rowsum = df_minus5.drop('product', axis=1).sum(axis=1)\n",
    "rowsum.value_counts().sort_index().plot(kind='bar', figsize=(30, 5))\n",
    "plt.show()"
   ]
  },
  {
   "cell_type": "code",
   "execution_count": 197,
   "metadata": {
    "scrolled": true
   },
   "outputs": [
    {
     "data": {
      "text/plain": [
       "4.0     61850\n",
       "3.0     54184\n",
       "5.0     31253\n",
       "6.0     15872\n",
       "7.0      8646\n",
       "8.0      4865\n",
       "9.0      2879\n",
       "2.0      1911\n",
       "10.0     1639\n",
       "11.0      976\n",
       "12.0      562\n",
       "13.0      379\n",
       "14.0      221\n",
       "15.0      162\n",
       "16.0      102\n",
       "17.0       65\n",
       "18.0       42\n",
       "19.0       32\n",
       "1.0        30\n",
       "20.0       27\n",
       "21.0       18\n",
       "23.0       14\n",
       "22.0       11\n",
       "24.0        5\n",
       "26.0        4\n",
       "27.0        3\n",
       "29.0        2\n",
       "25.0        1\n",
       "35.0        1\n",
       "33.0        1\n",
       "34.0        1\n",
       "dtype: int64"
      ]
     },
     "execution_count": 197,
     "metadata": {},
     "output_type": "execute_result"
    }
   ],
   "source": [
    "rowsum.value_counts()"
   ]
  },
  {
   "cell_type": "code",
   "execution_count": 198,
   "metadata": {},
   "outputs": [
    {
     "data": {
      "text/plain": [
       "(array([ 0,  1,  2,  3,  4,  5,  6,  7,  8,  9, 10, 11, 12, 13, 14, 15, 16,\n",
       "        17, 18, 19, 20, 21, 22, 23, 24, 25, 26, 27, 28, 29]),\n",
       " array([ 42, 129, 129, 129, 129, 129, 129, 129, 129, 129, 129, 129, 129,\n",
       "        129, 129, 129, 129, 129, 129, 129, 129, 129, 129, 129, 130, 129,\n",
       "        129, 129, 129, 129]))"
      ]
     },
     "execution_count": 198,
     "metadata": {},
     "output_type": "execute_result"
    }
   ],
   "source": [
    "# # checking samples where only one clinical feature is present\n",
    "num = 1\n",
    "numdata = df_minus5.loc[rowsum[rowsum == num].index].drop('product', axis=1)\n",
    "idx = np.where(numdata.astype(bool))\n",
    "idx"
   ]
  },
  {
   "cell_type": "code",
   "execution_count": 199,
   "metadata": {},
   "outputs": [
    {
     "data": {
      "text/plain": [
       "Int64Index([ 24875,  72717,  73101,  75324,  76118,  82231,  82688,  94111,\n",
       "             96553, 100450, 102003, 102899, 110776, 134710, 137540, 138378,\n",
       "            140732, 156294, 173933, 174593, 175153, 175852, 176545, 177375,\n",
       "            177847, 177871, 178542, 179192, 180642, 180791],\n",
       "           dtype='int64')"
      ]
     },
     "execution_count": 199,
     "metadata": {},
     "output_type": "execute_result"
    }
   ],
   "source": [
    "# # real index from 'data'\n",
    "numdata.index"
   ]
  },
  {
   "cell_type": "code",
   "execution_count": 200,
   "metadata": {
    "scrolled": true
   },
   "outputs": [
    {
     "data": {
      "text/plain": [
       "(185728, 133)"
      ]
     },
     "execution_count": 200,
     "metadata": {},
     "output_type": "execute_result"
    }
   ],
   "source": [
    "#### remove all indices/data where only one clinical effect is presentd\n",
    "df_minus5.drop(numdata.index, axis=0, inplace=True)\n",
    "df_minus5.shape"
   ]
  },
  {
   "cell_type": "code",
   "execution_count": 201,
   "metadata": {},
   "outputs": [],
   "source": [
    "df_minus5.to_csv(dataset_root+'df_minus5.csv',index=False)"
   ]
  },
  {
   "cell_type": "code",
   "execution_count": 44,
   "metadata": {
    "scrolled": false
   },
   "outputs": [],
   "source": [
    "#### Remove only ambiguous indices where one clinical effect is present for minority classes\n",
    "\n",
    "#counts = []\n",
    "#columns = df_minus4.drop('product', axis=1).columns\n",
    "#for i in np.sort(np.unique(idx[1])):\n",
    "#    counts.append(df_minus4.loc[numdata.index[np.where(idx[1] == i)[0]]]['product'].value_counts().rename(columns[i]))\n",
    "#counts = pd.concat(counts, axis=1, sort=False)\n",
    "#counts.index = counts.index.to_list()\n",
    "#counts = pd.concat([counts, counts.sum().to_frame('sum').T, (counts.sum() - counts.max()).to_frame('# minority class instance').T], axis=0, sort=False)\n",
    "#counts"
   ]
  },
  {
   "cell_type": "code",
   "execution_count": 45,
   "metadata": {},
   "outputs": [],
   "source": [
    "## # collecting invalid indices based on minority classes\n",
    "#invalid_indices = []\n",
    "#\n",
    "#for feature in counts.columns:\n",
    "#    indices = numdata.index[idx[0][np.where(idx[1] == np.where(columns == feature)[0][0])[0]]].to_list()\n",
    "#    dom_feat = counts[feature].iloc[:-2].idxmax()\n",
    "#    rem_idx = data.loc[indices].reset_index(drop=False).set_index('product').drop(dom_feat, axis=0)['index'].to_list()\n",
    "#    invalid_indices += rem_idx\n",
    "#invalid_indices = sorted(invalid_indices)\n",
    "\n",
    "## # removing samples that are invalid\n",
    "#data.drop(invalid_indices, axis=0, inplace=True)"
   ]
  },
  {
   "cell_type": "code",
   "execution_count": 46,
   "metadata": {},
   "outputs": [],
   "source": [
    "### Additional data visualization\n",
    "\n",
    "# ratios = pd.Series(data.set_index('product').sum()/data.shape[0], name='ratio_1').to_frame()\n",
    "# ratios['ratio_0'] = 1 - ratios['ratio_1']\n",
    "# ratios.plot(kind='bar', figsize=(35, 6), title='ratio of 1 and 0 for all features', stacked=True)\n",
    "# plt.show()"
   ]
  },
  {
   "cell_type": "code",
   "execution_count": 47,
   "metadata": {
    "scrolled": true
   },
   "outputs": [],
   "source": [
    "# # ratio of 1 in different classes\n",
    "# feature_ratios = []\n",
    "# _data = data.set_index('product')\n",
    "# for c in data.columns.drop('product'):\n",
    "#     print(c)\n",
    "#     temp = _data[c][_data[c].astype(bool)]\n",
    "#     feature_ratios.append((temp.index.value_counts() / temp.shape[0]).rename(c))\n",
    "# feature_ratios = pd.concat(feature_ratios, axis=1, sort=False)\n",
    "# msd.plot_heatmap(feature_ratios, figsize=(40, 9))"
   ]
  },
  {
   "cell_type": "code",
   "execution_count": 48,
   "metadata": {},
   "outputs": [],
   "source": [
    "# feature_ratios.T.plot.barh(figsize=(10, 40), stacked=True)\n",
    "# plt.show()"
   ]
  },
  {
   "cell_type": "code",
   "execution_count": 49,
   "metadata": {},
   "outputs": [],
   "source": [
    "# onlydata = data.drop('product', axis=1).copy()\n",
    "# label = data['product'].copy()"
   ]
  },
  {
   "cell_type": "code",
   "execution_count": 50,
   "metadata": {
    "scrolled": true
   },
   "outputs": [],
   "source": [
    "# thres = .5\n",
    "\n",
    "# featsum = onlydata.sum()\n",
    "# sel_features = []\n",
    "# for _class in label.unique():\n",
    "#     idx = label == _class\n",
    "#     featratio = (onlydata[idx].sum() / featsum).to_frame('feature_coverage')\n",
    "#     featratio['class_coverage'] = onlydata[idx].sum() / idx.sum()\n",
    "#     sel_features += featratio['feature_coverage'][featratio['feature_coverage'] >= thres].index.to_list()\n",
    "#     featratio.plot.bar(figsize=(30, 6), title='%s feature distribution'%_class)\n",
    "#     plt.show()\n",
    "# sel_features"
   ]
  },
  {
   "cell_type": "code",
   "execution_count": 51,
   "metadata": {},
   "outputs": [],
   "source": [
    "# onlydata[sel_features].shape"
   ]
  },
  {
   "cell_type": "code",
   "execution_count": 52,
   "metadata": {},
   "outputs": [
    {
     "name": "stdout",
     "output_type": "stream",
     "text": [
      "label2index = {'Acetaminophen': 0, 'Acetylsalicylic Acid Alone': 1, 'Benzodiazepines': 2, 'Diphenhydramine': 3, 'Lithium': 4, 'Oral Hypoglycemics: Sulfonylureas': 5}\n",
      "index2label = {0: 'Acetaminophen', 1: 'Acetylsalicylic Acid Alone', 2: 'Benzodiazepines', 3: 'Diphenhydramine', 4: 'Lithium', 5: 'Oral Hypoglycemics: Sulfonylureas'}\n"
     ]
    }
   ],
   "source": [
    "# label names to index mapping and reverse mapping\n",
    "label2index = {k: i for i, k in enumerate(np.sort(df_minus5['product'].unique()))}\n",
    "index2label = {label2index[k]: k for k in label2index}\n",
    "print(f'label2index = {label2index}')\n",
    "print(f'index2label = {index2label}')"
   ]
  },
  {
   "cell_type": "code",
   "execution_count": 53,
   "metadata": {
    "scrolled": true
   },
   "outputs": [],
   "source": [
    "### Statistical feature importance (isnt used though in later stages)\n",
    "# feature importance analysis\n",
    "df_minus5_labeled = df_minus5.copy(deep=True)\n",
    "df_minus5_labeled['product'] = df_minus5['product'].replace(label2index)\n"
   ]
  },
  {
   "cell_type": "code",
   "execution_count": 214,
   "metadata": {},
   "outputs": [
    {
     "name": "stdout",
     "output_type": "stream",
     "text": [
      ">>> removing non-occuring feature Gastricburns\n",
      ">>> removing non-occuring feature Necrosis\n"
     ]
    }
   ],
   "source": [
    "#preparing dataframe for indval analysis in R\n",
    "df_npds_data = df_minus5.copy()\n",
    "#Need to remove the features which do not occur in any sample\n",
    "for feature in df_npds_data.columns:\n",
    "    if np.sum(df_npds_data[feature])==0:\n",
    "        print(f'>>> removing non-occuring feature {feature}')\n",
    "        df_npds_data.drop([feature],axis=1,inplace=True)\n",
    "\n",
    "\n"
   ]
  },
  {
   "cell_type": "code",
   "execution_count": 216,
   "metadata": {},
   "outputs": [
    {
     "data": {
      "text/plain": [
       "(131, 133)"
      ]
     },
     "execution_count": 216,
     "metadata": {},
     "output_type": "execute_result"
    }
   ],
   "source": [
    "len(df_npds_data.columns), len(df_minus5.columns)"
   ]
  },
  {
   "cell_type": "code",
   "execution_count": 218,
   "metadata": {},
   "outputs": [],
   "source": [
    "df_npds_groups = pd.DataFrame(df_minus5['product'],columns=['product'])\n",
    "df_npds_groups['group'] = df_minus5['product'].replace(label2index)\n",
    "df_npds_data.to_csv(dataset_root+'indval-workspace/df_npds_data.csv',index=False)\n",
    "df_npds_groups.to_csv(dataset_root+'indval-workspace/df_npds_groups.csv',index=False)"
   ]
  },
  {
   "attachments": {},
   "cell_type": "markdown",
   "metadata": {},
   "source": [
    "### (AshisKB) INDVAL based feature selection (R version)\n",
    "* Make sure you run ``indVal-ashiskb-2-npds-data.R`` on the saved csv files from the previous cell.\n",
    "* Output is basically the ``indvalsummary-npds-on-131-features.csv`` summary csv,\n",
    "    - First column lists the top-99 features based on indval analysis"
   ]
  },
  {
   "cell_type": "code",
   "execution_count": 243,
   "metadata": {},
   "outputs": [],
   "source": [
    "indval_summary = pd.read_csv(dataset_root+'indval-workspace/indvalsummary-npds-on-131-features.csv')\n"
   ]
  },
  {
   "cell_type": "code",
   "execution_count": 319,
   "metadata": {},
   "outputs": [],
   "source": [
    "#including all features\n",
    "#the_columns = list(df_npds_data.columns)\n",
    "#the_columns.remove('product')"
   ]
  },
  {
   "cell_type": "code",
   "execution_count": 321,
   "metadata": {},
   "outputs": [
    {
     "name": "stdout",
     "output_type": "stream",
     "text": [
      "85\n"
     ]
    }
   ],
   "source": [
    "#Now, feature selection using INDVAL\n",
    "num_of_features_to_keep = 85\n",
    "features_to_keep =  indval_summary.iloc[:,0][:num_of_features_to_keep]\n",
    "print(len(features_to_keep))\n",
    "\n"
   ]
  },
  {
   "cell_type": "code",
   "execution_count": 322,
   "metadata": {},
   "outputs": [],
   "source": [
    "# separating label (product) column from the rest of data\n",
    "y = df_minus5_labeled['product'].copy()\n",
    "X = df_minus5_labeled.drop(['product'], axis=1)\n"
   ]
  },
  {
   "cell_type": "code",
   "execution_count": 323,
   "metadata": {},
   "outputs": [
    {
     "data": {
      "text/plain": [
       "(185728, 85)"
      ]
     },
     "execution_count": 323,
     "metadata": {},
     "output_type": "execute_result"
    }
   ],
   "source": [
    "#X_idv is the feature selected data\n",
    "X_idv = X.loc[:,features_to_keep]\n",
    "X_idv.shape"
   ]
  },
  {
   "cell_type": "code",
   "execution_count": 324,
   "metadata": {},
   "outputs": [],
   "source": [
    "#Three-way split ratio\n",
    "train_ratio = 0.70\n",
    "val_ratio = 0.15\n",
    "test_ratio = 0.15\n"
   ]
  },
  {
   "cell_type": "code",
   "execution_count": 325,
   "metadata": {},
   "outputs": [
    {
     "name": "stdout",
     "output_type": "stream",
     "text": [
      "X_resampled.shape = (185728, 85),\n",
      "y_resampled.shape = (185728,)\n",
      "X_train.shape = (157868, 85),\n",
      "X_test.shape = (27860, 85)\n"
     ]
    }
   ],
   "source": [
    "\n",
    "#SMOTE = Synthetic Minority Oversampling Technique (SMOTE)\n",
    "#X_resampled, y_resampled = SMOTE().fit_resample(X2,y)\n",
    "X_resampled,y_resampled = X_idv, y\n",
    "print(f'X_resampled.shape = {X_resampled.shape},\\ny_resampled.shape = {y_resampled.shape}')\n",
    "#class distribution after SMOTE()\n",
    "#y_resampled.value_counts()\n",
    "#first split two-way and separate out the test set\n",
    "X_train, X_test, y_train, y_test = train_test_split(X_resampled, y_resampled, test_size=test_ratio, random_state=12345)\n",
    "#Convert dataframes into numpy arrays\n",
    "X_train = X_train.to_numpy()\n",
    "y_train = y_train.to_numpy()\n",
    "X_test = X_test.to_numpy()\n",
    "y_test = y_test.to_numpy()\n",
    "print(f'X_train.shape = {X_train.shape},\\nX_test.shape = {X_test.shape}')"
   ]
  },
  {
   "cell_type": "markdown",
   "metadata": {},
   "source": [
    "* (AshisKB) Keras model parameters"
   ]
  },
  {
   "cell_type": "code",
   "execution_count": 326,
   "metadata": {},
   "outputs": [
    {
     "name": "stdout",
     "output_type": "stream",
     "text": [
      "n_layers = 4,\n",
      "unit_factors = [5 9 7 3]\n",
      "input_dim = 85, output_dim = 6\n",
      "units = [85, 425, 765, 595, 255, 6]\n"
     ]
    }
   ],
   "source": [
    "# Deep NN model parameters\n",
    "n_layers = 4\n",
    "unit_factors = np.array(get_factors(n_layers=n_layers),dtype=int)\n",
    "dropout_rate = .15\n",
    "print(f'n_layers = {n_layers},\\nunit_factors = {unit_factors}')\n",
    "\n",
    "input_dim = X_train[0].shape[0]\n",
    "output_dim = len(index2label)\n",
    "print(f'input_dim = {input_dim}, output_dim = {output_dim}')\n",
    "hidden_units = [input_dim * factor for factor in unit_factors]\n",
    "units = [input_dim] + hidden_units + [output_dim]\n",
    "units = [i for i in units]\n",
    "print(f'units = {units}')"
   ]
  },
  {
   "cell_type": "code",
   "execution_count": 327,
   "metadata": {},
   "outputs": [
    {
     "name": "stdout",
     "output_type": "stream",
     "text": [
      "Model: \"sequential_9\"\n",
      "_________________________________________________________________\n",
      " Layer (type)                Output Shape              Param #   \n",
      "=================================================================\n",
      " dense_45 (Dense)            (None, 665)               57190     \n",
      "                                                                 \n",
      " batch_normalization_36 (Bat  (None, 665)              2660      \n",
      " chNormalization)                                                \n",
      "                                                                 \n",
      " dropout_36 (Dropout)        (None, 665)               0         \n",
      "                                                                 \n",
      " dense_46 (Dense)            (None, 1197)              797202    \n",
      "                                                                 \n",
      " batch_normalization_37 (Bat  (None, 1197)             4788      \n",
      " chNormalization)                                                \n",
      "                                                                 \n",
      " dropout_37 (Dropout)        (None, 1197)              0         \n",
      "                                                                 \n",
      " dense_47 (Dense)            (None, 931)               1115338   \n",
      "                                                                 \n",
      " batch_normalization_38 (Bat  (None, 931)              3724      \n",
      " chNormalization)                                                \n",
      "                                                                 \n",
      " dropout_38 (Dropout)        (None, 931)               0         \n",
      "                                                                 \n",
      " dense_48 (Dense)            (None, 399)               371868    \n",
      "                                                                 \n",
      " batch_normalization_39 (Bat  (None, 399)              1596      \n",
      " chNormalization)                                                \n",
      "                                                                 \n",
      " dropout_39 (Dropout)        (None, 399)               0         \n",
      "                                                                 \n",
      " dense_49 (Dense)            (None, 6)                 2400      \n",
      "                                                                 \n",
      "=================================================================\n",
      "Total params: 2,356,766\n",
      "Trainable params: 2,350,382\n",
      "Non-trainable params: 6,384\n",
      "_________________________________________________________________\n"
     ]
    }
   ],
   "source": [
    "#Define Keras model\n",
    "model = Sequential()\n",
    "model.add(Dense(665, input_shape=(len(features_to_keep),), activation='relu'))\n",
    "model.add(BatchNormalization())\n",
    "model.add(Dropout(dropout_rate))\n",
    "\n",
    "model.add(Dense(1197, activation='relu'))\n",
    "model.add(BatchNormalization())\n",
    "model.add(Dropout(dropout_rate))\n",
    "\n",
    "\n",
    "model.add(Dense(931, activation='relu'))\n",
    "model.add(BatchNormalization())\n",
    "model.add(Dropout(dropout_rate))\n",
    "\n",
    "\n",
    "model.add(Dense(399,activation='relu'))\n",
    "model.add(BatchNormalization())\n",
    "model.add(Dropout(dropout_rate))\n",
    "\n",
    "model.add(Dense(6, activation='softmax'))\n",
    "\n",
    "\n",
    "model.summary()"
   ]
  },
  {
   "cell_type": "code",
   "execution_count": 328,
   "metadata": {},
   "outputs": [],
   "source": [
    "#defining the hyper-parameters\n",
    "learning_rate = 1e-3\n",
    "batch_size = 64\n",
    "epoch = 10\n",
    "#f you want to use \"categorical_crossentropy\", the labels should be one-hot-encoded. In our case, it was not.\n",
    "# When your labels are given as an integer, changing to \"sparse_categorical_crossentropy\" is required. \n",
    "# The advantage of using \"categorical_crossentropy\" is that it can give you class probabilities, which might be useful in some cases.\n",
    "loss_function = \"sparse_categorical_crossentropy\"\n",
    "\n",
    "#define optimizer \n",
    "#opt = optim.SGD(model.parameters(), lr=0.2,momentum=0.9)\n",
    "opt = Adam(learning_rate=learning_rate, beta_1=0.9, beta_2=0.999, epsilon=1e-8) \n",
    "#compile Keras model with the parameter settings\n",
    "model.compile(loss=loss_function,optimizer=opt,metrics=[\"accuracy\"])"
   ]
  },
  {
   "cell_type": "code",
   "execution_count": 329,
   "metadata": {},
   "outputs": [
    {
     "name": "stdout",
     "output_type": "stream",
     "text": [
      "Epoch 1/10\n",
      "2467/2467 [==============================] - 16s 5ms/step - loss: 0.5646 - accuracy: 0.7967\n",
      "Epoch 2/10\n",
      "2467/2467 [==============================] - 13s 5ms/step - loss: 0.5153 - accuracy: 0.8088\n",
      "Epoch 3/10\n",
      "2467/2467 [==============================] - 13s 5ms/step - loss: 0.5054 - accuracy: 0.8108\n",
      "Epoch 4/10\n",
      "2467/2467 [==============================] - 13s 5ms/step - loss: 0.4965 - accuracy: 0.8133\n",
      "Epoch 5/10\n",
      "2467/2467 [==============================] - 13s 5ms/step - loss: 0.4904 - accuracy: 0.8148\n",
      "Epoch 6/10\n",
      "2467/2467 [==============================] - 12s 5ms/step - loss: 0.4840 - accuracy: 0.8177\n",
      "Epoch 7/10\n",
      "2467/2467 [==============================] - 14s 6ms/step - loss: 0.4809 - accuracy: 0.8189\n",
      "Epoch 8/10\n",
      "2467/2467 [==============================] - 13s 5ms/step - loss: 0.4760 - accuracy: 0.8200\n",
      "Epoch 9/10\n",
      "2467/2467 [==============================] - 13s 5ms/step - loss: 0.4725 - accuracy: 0.8213\n",
      "Epoch 10/10\n",
      "2467/2467 [==============================] - 13s 5ms/step - loss: 0.4681 - accuracy: 0.8227\n",
      "Time taken 132.32238578796387\n"
     ]
    }
   ],
   "source": [
    "#Let's train\n",
    "#calculate time of training\n",
    "tic = time.time()\n",
    "log_tr = model.fit(X_train, y_train, epochs=epoch, batch_size=batch_size)\n",
    "toc = time.time()\n",
    "print('Time taken', toc - tic)\n"
   ]
  },
  {
   "cell_type": "code",
   "execution_count": 330,
   "metadata": {},
   "outputs": [
    {
     "name": "stdout",
     "output_type": "stream",
     "text": [
      "INFO:tensorflow:Assets written to: ./temp/20230209_2143_Keras_FFN_tf_INDVAL_R_features_selected=85/assets\n"
     ]
    }
   ],
   "source": [
    "##Save model (in Tensorflow SaveModel format (tf2))\n",
    "model.save(f'./temp/20230209_2143_Keras_FFN_tf_INDVAL_R_features_selected={num_of_features_to_keep}')"
   ]
  },
  {
   "cell_type": "code",
   "execution_count": 331,
   "metadata": {},
   "outputs": [
    {
     "name": "stdout",
     "output_type": "stream",
     "text": [
      "218/218 [==============================] - 0s 2ms/step\n",
      "                                      precision    recall  f1-score   support\n",
      "\n",
      "                    Acetaminophen{0}       0.86      0.91      0.89      5737\n",
      "       Acetylsalicylic Acid Alone{1}       0.86      0.62      0.72      2234\n",
      "                  Benzodiazepines{2}       0.83      0.84      0.83     10216\n",
      "                  Diphenhydramine{3}       0.75      0.80      0.77      7803\n",
      "                          Lithium{4}       0.85      0.65      0.73      1451\n",
      "Oral Hypoglycemics: Sulfonylureas{5}       0.95      0.89      0.92       419\n",
      "\n",
      "                            accuracy                           0.82     27860\n",
      "                           macro avg       0.85      0.78      0.81     27860\n",
      "                        weighted avg       0.82      0.82      0.82     27860\n",
      "\n"
     ]
    }
   ],
   "source": [
    "# evaluate the network\n",
    "pred_probs = model.predict(X_test, batch_size=128)\n",
    "predictions = [x.argmax() for x in pred_probs]\n",
    "report = classification_report(y_test, predictions, target_names=[index2label[i]+'{'+str(i)+'}' for i in np.unique(y_train)])\n",
    "print(report)\n",
    "with open(f'{dataset_root}/temp/report_20230209_Keras_INDVAL_R_features_selected={num_of_features_to_keep}.txt','w') as f:\n",
    "    f.write(report)"
   ]
  },
  {
   "cell_type": "code",
   "execution_count": null,
   "metadata": {},
   "outputs": [],
   "source": [
    "#the end"
   ]
  },
  {
   "cell_type": "code",
   "execution_count": 342,
   "metadata": {},
   "outputs": [
    {
     "name": "stdout",
     "output_type": "stream",
     "text": [
      "temp/report_20230209_Keras_INDVAL_R_features_selected=3.txt\n",
      "list of accuracy = [0.55]\n",
      "list of precision = [0.41]\n",
      "list of recall = [0.55]\n",
      "list of f1 = [0.45]\n",
      "temp/report_20230209_Keras_INDVAL_R_features_selected=5.txt\n",
      "list of accuracy = [0.55, 0.57]\n",
      "list of precision = [0.41, 0.45]\n",
      "list of recall = [0.55, 0.57]\n",
      "list of f1 = [0.45, 0.48]\n",
      "temp/report_20230209_Keras_INDVAL_R_features_selected=10.txt\n",
      "list of accuracy = [0.55, 0.57, 0.71]\n",
      "list of precision = [0.41, 0.45, 0.73]\n",
      "list of recall = [0.55, 0.57, 0.71]\n",
      "list of f1 = [0.45, 0.48, 0.7]\n",
      "temp/report_20230209_Keras_INDVAL_R_features_selected=25.txt\n",
      "list of accuracy = [0.55, 0.57, 0.71, 0.78]\n",
      "list of precision = [0.41, 0.45, 0.73, 0.78]\n",
      "list of recall = [0.55, 0.57, 0.71, 0.78]\n",
      "list of f1 = [0.45, 0.48, 0.7, 0.77]\n",
      "temp/report_20230209_Keras_INDVAL_R_features_selected=50.txt\n",
      "list of accuracy = [0.55, 0.57, 0.71, 0.78, 0.81]\n",
      "list of precision = [0.41, 0.45, 0.73, 0.78, 0.82]\n",
      "list of recall = [0.55, 0.57, 0.71, 0.78, 0.81]\n",
      "list of f1 = [0.45, 0.48, 0.7, 0.77, 0.81]\n",
      "temp/report_20230209_Keras_INDVAL_R_features_selected=85.txt\n",
      "list of accuracy = [0.55, 0.57, 0.71, 0.78, 0.81, 0.82]\n",
      "list of precision = [0.41, 0.45, 0.73, 0.78, 0.82, 0.82]\n",
      "list of recall = [0.55, 0.57, 0.71, 0.78, 0.81, 0.82]\n",
      "list of f1 = [0.45, 0.48, 0.7, 0.77, 0.81, 0.82]\n",
      "temp/report_20230209_Keras_INDVAL_R_features_selected=99.txt\n",
      "list of accuracy = [0.55, 0.57, 0.71, 0.78, 0.81, 0.82, 0.82]\n",
      "list of precision = [0.41, 0.45, 0.73, 0.78, 0.82, 0.82, 0.82]\n",
      "list of recall = [0.55, 0.57, 0.71, 0.78, 0.81, 0.82, 0.82]\n",
      "list of f1 = [0.45, 0.48, 0.7, 0.77, 0.81, 0.82, 0.82]\n",
      "temp/report_20230209_Keras_INDVAL_R_features_selected=130.txt\n",
      "list of accuracy = [0.55, 0.57, 0.71, 0.78, 0.81, 0.82, 0.82, 0.82]\n",
      "list of precision = [0.41, 0.45, 0.73, 0.78, 0.82, 0.82, 0.82, 0.82]\n",
      "list of recall = [0.55, 0.57, 0.71, 0.78, 0.81, 0.82, 0.82, 0.82]\n",
      "list of f1 = [0.45, 0.48, 0.7, 0.77, 0.81, 0.82, 0.82, 0.82]\n"
     ]
    }
   ],
   "source": [
    "#Draw plot of indval analysis\n",
    "num_features_selected = [3, 5, 10, 25, 50, 85, 99, 130]\n",
    "list_of_accuracy = []\n",
    "list_of_precision = []\n",
    "list_of_recall = []\n",
    "list_of_f1 = []\n",
    "for num in num_features_selected:\n",
    "    classification_report_file = f'{dataset_root}/temp/report_20230209_Keras_INDVAL_R_features_selected={num}.txt'\n",
    "    print(f'{classification_report_file}')\n",
    "    with open(classification_report_file,'r') as f:\n",
    "        lines = f.readlines()\n",
    "        #read the 10th line for accuracy\n",
    "        accuracy_line = lines[9]\n",
    "        splits = accuracy_line.split()\n",
    "        accuracy_l = []\n",
    "        for sp in splits:\n",
    "            #print(f'{sp},')\n",
    "            accuracy_l.append(sp)\n",
    "        if accuracy_l[0]=='accuracy':\n",
    "            list_of_accuracy.append(float(accuracy_l[1]))\n",
    "        else:\n",
    "            print('Error! accuracy not reported!')\n",
    "            \n",
    "        #read the 12th line for weighted average of precision, recall, f1-score\n",
    "        prf_line = lines[11]\n",
    "        splits = prf_line.split()\n",
    "        prf_l = []\n",
    "        for sp in splits:\n",
    "            #print(f'{sp},')\n",
    "            prf_l.append(sp)\n",
    "        if prf_l[0]=='weighted' and prf_l[1]=='avg':\n",
    "            list_of_precision.append(float(prf_l[2]))\n",
    "            list_of_recall.append(float(prf_l[3]))\n",
    "            list_of_f1.append(float(prf_l[4]))\n",
    "        else:\n",
    "            print('Error! weighted avg not reported!')\n",
    "\n",
    "    print(f'list of accuracy = {list_of_accuracy}')\n",
    "    print(f'list of precision = {list_of_precision}')\n",
    "    print(f'list of recall = {list_of_recall}')\n",
    "    print(f'list of f1 = {list_of_f1}')\n",
    "\n",
    "    \n",
    "    #break"
   ]
  },
  {
   "cell_type": "code",
   "execution_count": 351,
   "metadata": {},
   "outputs": [],
   "source": [
    "plot_df = pd.DataFrame(list(zip(num_features_selected, list_of_accuracy, list_of_precision, list_of_recall, list_of_f1)), \\\n",
    "                        columns=['Num_Features_Selected', 'Accuracy', 'Precision', 'Recall', 'F1'])"
   ]
  },
  {
   "cell_type": "code",
   "execution_count": 352,
   "metadata": {},
   "outputs": [
    {
     "data": {
      "text/html": [
       "<div>\n",
       "<style scoped>\n",
       "    .dataframe tbody tr th:only-of-type {\n",
       "        vertical-align: middle;\n",
       "    }\n",
       "\n",
       "    .dataframe tbody tr th {\n",
       "        vertical-align: top;\n",
       "    }\n",
       "\n",
       "    .dataframe thead th {\n",
       "        text-align: right;\n",
       "    }\n",
       "</style>\n",
       "<table border=\"1\" class=\"dataframe\">\n",
       "  <thead>\n",
       "    <tr style=\"text-align: right;\">\n",
       "      <th></th>\n",
       "      <th>Num_Features_Selected</th>\n",
       "      <th>Accuracy</th>\n",
       "      <th>Precision</th>\n",
       "      <th>Recall</th>\n",
       "      <th>F1</th>\n",
       "    </tr>\n",
       "  </thead>\n",
       "  <tbody>\n",
       "    <tr>\n",
       "      <th>0</th>\n",
       "      <td>3</td>\n",
       "      <td>0.55</td>\n",
       "      <td>0.41</td>\n",
       "      <td>0.55</td>\n",
       "      <td>0.45</td>\n",
       "    </tr>\n",
       "    <tr>\n",
       "      <th>1</th>\n",
       "      <td>5</td>\n",
       "      <td>0.57</td>\n",
       "      <td>0.45</td>\n",
       "      <td>0.57</td>\n",
       "      <td>0.48</td>\n",
       "    </tr>\n",
       "    <tr>\n",
       "      <th>2</th>\n",
       "      <td>10</td>\n",
       "      <td>0.71</td>\n",
       "      <td>0.73</td>\n",
       "      <td>0.71</td>\n",
       "      <td>0.70</td>\n",
       "    </tr>\n",
       "    <tr>\n",
       "      <th>3</th>\n",
       "      <td>25</td>\n",
       "      <td>0.78</td>\n",
       "      <td>0.78</td>\n",
       "      <td>0.78</td>\n",
       "      <td>0.77</td>\n",
       "    </tr>\n",
       "    <tr>\n",
       "      <th>4</th>\n",
       "      <td>50</td>\n",
       "      <td>0.81</td>\n",
       "      <td>0.82</td>\n",
       "      <td>0.81</td>\n",
       "      <td>0.81</td>\n",
       "    </tr>\n",
       "    <tr>\n",
       "      <th>5</th>\n",
       "      <td>85</td>\n",
       "      <td>0.82</td>\n",
       "      <td>0.82</td>\n",
       "      <td>0.82</td>\n",
       "      <td>0.82</td>\n",
       "    </tr>\n",
       "    <tr>\n",
       "      <th>6</th>\n",
       "      <td>99</td>\n",
       "      <td>0.82</td>\n",
       "      <td>0.82</td>\n",
       "      <td>0.82</td>\n",
       "      <td>0.82</td>\n",
       "    </tr>\n",
       "    <tr>\n",
       "      <th>7</th>\n",
       "      <td>130</td>\n",
       "      <td>0.82</td>\n",
       "      <td>0.82</td>\n",
       "      <td>0.82</td>\n",
       "      <td>0.82</td>\n",
       "    </tr>\n",
       "  </tbody>\n",
       "</table>\n",
       "</div>"
      ],
      "text/plain": [
       "   Num_Features_Selected  Accuracy  Precision  Recall    F1\n",
       "0                      3      0.55       0.41    0.55  0.45\n",
       "1                      5      0.57       0.45    0.57  0.48\n",
       "2                     10      0.71       0.73    0.71  0.70\n",
       "3                     25      0.78       0.78    0.78  0.77\n",
       "4                     50      0.81       0.82    0.81  0.81\n",
       "5                     85      0.82       0.82    0.82  0.82\n",
       "6                     99      0.82       0.82    0.82  0.82\n",
       "7                    130      0.82       0.82    0.82  0.82"
      ]
     },
     "execution_count": 352,
     "metadata": {},
     "output_type": "execute_result"
    }
   ],
   "source": [
    "plot_df"
   ]
  },
  {
   "cell_type": "code",
   "execution_count": 355,
   "metadata": {},
   "outputs": [
    {
     "data": {
      "text/plain": [
       "<AxesSubplot: xlabel='Num_Features_Selected'>"
      ]
     },
     "execution_count": 355,
     "metadata": {},
     "output_type": "execute_result"
    },
    {
     "data": {
      "image/png": "[encoded data removed]",
      "text/plain": [
       "<Figure size 640x480 with 1 Axes>"
      ]
     },
     "metadata": {},
     "output_type": "display_data"
    }
   ],
   "source": [
    "plot_df.plot(x='Num_Features_Selected', y=['Accuracy','Precision', 'Recall', 'F1'], kind='bar', rot=0)"
   ]
  }
 ],
 "metadata": {
  "kernelspec": {
   "display_name": "venv-tf2",
   "language": "python",
   "name": "python3"
  },
  "language_info": {
   "codemirror_mode": {
    "name": "ipython",
    "version": 3
   },
   "file_extension": ".py",
   "mimetype": "text/x-python",
   "name": "python",
   "nbconvert_exporter": "python",
   "pygments_lexer": "ipython3",
   "version": "3.10.6"
  },
  "vscode": {
   "interpreter": {
    "hash": "a1f02428ab534d37e90337aa1fda58d9bda30d044ddd848ad8ae59d852a8cc6a"
   }
  }
 },
 "nbformat": 4,
 "nbformat_minor": 4
}
